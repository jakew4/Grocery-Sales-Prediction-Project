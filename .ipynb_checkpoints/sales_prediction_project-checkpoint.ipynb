{
 "cells": [
  {
   "cell_type": "markdown",
   "metadata": {
    "colab_type": "text",
    "id": "view-in-github"
   },
   "source": [
    "<a href=\"https://colab.research.google.com/github/jakew4/sales-predictions/blob/main/project1.ipynb\" target=\"_parent\"><img src=\"https://colab.research.google.com/assets/colab-badge.svg\" alt=\"Open In Colab\"/></a>"
   ]
  },
  {
   "cell_type": "markdown",
   "metadata": {
    "id": "ptUOqYawpySa"
   },
   "source": [
    "# Sales Prediction Project\n",
    "* Jacob Wang\n",
    "* CodingDojo Data Science Project 1\n"
   ]
  },
  {
   "cell_type": "markdown",
   "metadata": {
    "id": "nO3DEIL1pOba"
   },
   "source": [
    "## Loading Data"
   ]
  },
  {
   "cell_type": "code",
   "execution_count": 1,
   "metadata": {
    "colab": {
     "base_uri": "https://localhost:8080/",
     "height": 357
    },
    "id": "5E0DhgXnoTCg",
    "outputId": "50213499-fc47-444c-f044-017e346655bf"
   },
   "outputs": [
    {
     "data": {
      "text/html": [
       "\n",
       "  <div id=\"df-1fb3b997-7eaa-4fb2-b9ae-0beed4bb4eb7\">\n",
       "    <div class=\"colab-df-container\">\n",
       "      <div>\n",
       "<style scoped>\n",
       "    .dataframe tbody tr th:only-of-type {\n",
       "        vertical-align: middle;\n",
       "    }\n",
       "\n",
       "    .dataframe tbody tr th {\n",
       "        vertical-align: top;\n",
       "    }\n",
       "\n",
       "    .dataframe thead th {\n",
       "        text-align: right;\n",
       "    }\n",
       "</style>\n",
       "<table border=\"1\" class=\"dataframe\">\n",
       "  <thead>\n",
       "    <tr style=\"text-align: right;\">\n",
       "      <th></th>\n",
       "      <th>Item_Identifier</th>\n",
       "      <th>Item_Weight</th>\n",
       "      <th>Item_Fat_Content</th>\n",
       "      <th>Item_Visibility</th>\n",
       "      <th>Item_Type</th>\n",
       "      <th>Item_MRP</th>\n",
       "      <th>Outlet_Identifier</th>\n",
       "      <th>Outlet_Establishment_Year</th>\n",
       "      <th>Outlet_Size</th>\n",
       "      <th>Outlet_Location_Type</th>\n",
       "      <th>Outlet_Type</th>\n",
       "      <th>Item_Outlet_Sales</th>\n",
       "    </tr>\n",
       "  </thead>\n",
       "  <tbody>\n",
       "    <tr>\n",
       "      <th>0</th>\n",
       "      <td>FDA15</td>\n",
       "      <td>9.30</td>\n",
       "      <td>Low Fat</td>\n",
       "      <td>0.016047</td>\n",
       "      <td>Dairy</td>\n",
       "      <td>249.8092</td>\n",
       "      <td>OUT049</td>\n",
       "      <td>1999</td>\n",
       "      <td>Medium</td>\n",
       "      <td>Tier 1</td>\n",
       "      <td>Supermarket Type1</td>\n",
       "      <td>3735.1380</td>\n",
       "    </tr>\n",
       "    <tr>\n",
       "      <th>1</th>\n",
       "      <td>DRC01</td>\n",
       "      <td>5.92</td>\n",
       "      <td>Regular</td>\n",
       "      <td>0.019278</td>\n",
       "      <td>Soft Drinks</td>\n",
       "      <td>48.2692</td>\n",
       "      <td>OUT018</td>\n",
       "      <td>2009</td>\n",
       "      <td>Medium</td>\n",
       "      <td>Tier 3</td>\n",
       "      <td>Supermarket Type2</td>\n",
       "      <td>443.4228</td>\n",
       "    </tr>\n",
       "    <tr>\n",
       "      <th>2</th>\n",
       "      <td>FDN15</td>\n",
       "      <td>17.50</td>\n",
       "      <td>Low Fat</td>\n",
       "      <td>0.016760</td>\n",
       "      <td>Meat</td>\n",
       "      <td>141.6180</td>\n",
       "      <td>OUT049</td>\n",
       "      <td>1999</td>\n",
       "      <td>Medium</td>\n",
       "      <td>Tier 1</td>\n",
       "      <td>Supermarket Type1</td>\n",
       "      <td>2097.2700</td>\n",
       "    </tr>\n",
       "    <tr>\n",
       "      <th>3</th>\n",
       "      <td>FDX07</td>\n",
       "      <td>19.20</td>\n",
       "      <td>Regular</td>\n",
       "      <td>0.000000</td>\n",
       "      <td>Fruits and Vegetables</td>\n",
       "      <td>182.0950</td>\n",
       "      <td>OUT010</td>\n",
       "      <td>1998</td>\n",
       "      <td>NaN</td>\n",
       "      <td>Tier 3</td>\n",
       "      <td>Grocery Store</td>\n",
       "      <td>732.3800</td>\n",
       "    </tr>\n",
       "    <tr>\n",
       "      <th>4</th>\n",
       "      <td>NCD19</td>\n",
       "      <td>8.93</td>\n",
       "      <td>Low Fat</td>\n",
       "      <td>0.000000</td>\n",
       "      <td>Household</td>\n",
       "      <td>53.8614</td>\n",
       "      <td>OUT013</td>\n",
       "      <td>1987</td>\n",
       "      <td>High</td>\n",
       "      <td>Tier 3</td>\n",
       "      <td>Supermarket Type1</td>\n",
       "      <td>994.7052</td>\n",
       "    </tr>\n",
       "  </tbody>\n",
       "</table>\n",
       "</div>\n",
       "      <button class=\"colab-df-convert\" onclick=\"convertToInteractive('df-1fb3b997-7eaa-4fb2-b9ae-0beed4bb4eb7')\"\n",
       "              title=\"Convert this dataframe to an interactive table.\"\n",
       "              style=\"display:none;\">\n",
       "        \n",
       "  <svg xmlns=\"http://www.w3.org/2000/svg\" height=\"24px\"viewBox=\"0 0 24 24\"\n",
       "       width=\"24px\">\n",
       "    <path d=\"M0 0h24v24H0V0z\" fill=\"none\"/>\n",
       "    <path d=\"M18.56 5.44l.94 2.06.94-2.06 2.06-.94-2.06-.94-.94-2.06-.94 2.06-2.06.94zm-11 1L8.5 8.5l.94-2.06 2.06-.94-2.06-.94L8.5 2.5l-.94 2.06-2.06.94zm10 10l.94 2.06.94-2.06 2.06-.94-2.06-.94-.94-2.06-.94 2.06-2.06.94z\"/><path d=\"M17.41 7.96l-1.37-1.37c-.4-.4-.92-.59-1.43-.59-.52 0-1.04.2-1.43.59L10.3 9.45l-7.72 7.72c-.78.78-.78 2.05 0 2.83L4 21.41c.39.39.9.59 1.41.59.51 0 1.02-.2 1.41-.59l7.78-7.78 2.81-2.81c.8-.78.8-2.07 0-2.86zM5.41 20L4 18.59l7.72-7.72 1.47 1.35L5.41 20z\"/>\n",
       "  </svg>\n",
       "      </button>\n",
       "      \n",
       "  <style>\n",
       "    .colab-df-container {\n",
       "      display:flex;\n",
       "      flex-wrap:wrap;\n",
       "      gap: 12px;\n",
       "    }\n",
       "\n",
       "    .colab-df-convert {\n",
       "      background-color: #E8F0FE;\n",
       "      border: none;\n",
       "      border-radius: 50%;\n",
       "      cursor: pointer;\n",
       "      display: none;\n",
       "      fill: #1967D2;\n",
       "      height: 32px;\n",
       "      padding: 0 0 0 0;\n",
       "      width: 32px;\n",
       "    }\n",
       "\n",
       "    .colab-df-convert:hover {\n",
       "      background-color: #E2EBFA;\n",
       "      box-shadow: 0px 1px 2px rgba(60, 64, 67, 0.3), 0px 1px 3px 1px rgba(60, 64, 67, 0.15);\n",
       "      fill: #174EA6;\n",
       "    }\n",
       "\n",
       "    [theme=dark] .colab-df-convert {\n",
       "      background-color: #3B4455;\n",
       "      fill: #D2E3FC;\n",
       "    }\n",
       "\n",
       "    [theme=dark] .colab-df-convert:hover {\n",
       "      background-color: #434B5C;\n",
       "      box-shadow: 0px 1px 3px 1px rgba(0, 0, 0, 0.15);\n",
       "      filter: drop-shadow(0px 1px 2px rgba(0, 0, 0, 0.3));\n",
       "      fill: #FFFFFF;\n",
       "    }\n",
       "  </style>\n",
       "\n",
       "      <script>\n",
       "        const buttonEl =\n",
       "          document.querySelector('#df-1fb3b997-7eaa-4fb2-b9ae-0beed4bb4eb7 button.colab-df-convert');\n",
       "        buttonEl.style.display =\n",
       "          google.colab.kernel.accessAllowed ? 'block' : 'none';\n",
       "\n",
       "        async function convertToInteractive(key) {\n",
       "          const element = document.querySelector('#df-1fb3b997-7eaa-4fb2-b9ae-0beed4bb4eb7');\n",
       "          const dataTable =\n",
       "            await google.colab.kernel.invokeFunction('convertToInteractive',\n",
       "                                                     [key], {});\n",
       "          if (!dataTable) return;\n",
       "\n",
       "          const docLinkHtml = 'Like what you see? Visit the ' +\n",
       "            '<a target=\"_blank\" href=https://colab.research.google.com/notebooks/data_table.ipynb>data table notebook</a>'\n",
       "            + ' to learn more about interactive tables.';\n",
       "          element.innerHTML = '';\n",
       "          dataTable['output_type'] = 'display_data';\n",
       "          await google.colab.output.renderOutput(dataTable, element);\n",
       "          const docLink = document.createElement('div');\n",
       "          docLink.innerHTML = docLinkHtml;\n",
       "          element.appendChild(docLink);\n",
       "        }\n",
       "      </script>\n",
       "    </div>\n",
       "  </div>\n",
       "  "
      ],
      "text/plain": [
       "  Item_Identifier  Item_Weight Item_Fat_Content  Item_Visibility  \\\n",
       "0           FDA15         9.30          Low Fat         0.016047   \n",
       "1           DRC01         5.92          Regular         0.019278   \n",
       "2           FDN15        17.50          Low Fat         0.016760   \n",
       "3           FDX07        19.20          Regular         0.000000   \n",
       "4           NCD19         8.93          Low Fat         0.000000   \n",
       "\n",
       "               Item_Type  Item_MRP Outlet_Identifier  \\\n",
       "0                  Dairy  249.8092            OUT049   \n",
       "1            Soft Drinks   48.2692            OUT018   \n",
       "2                   Meat  141.6180            OUT049   \n",
       "3  Fruits and Vegetables  182.0950            OUT010   \n",
       "4              Household   53.8614            OUT013   \n",
       "\n",
       "   Outlet_Establishment_Year Outlet_Size Outlet_Location_Type  \\\n",
       "0                       1999      Medium               Tier 1   \n",
       "1                       2009      Medium               Tier 3   \n",
       "2                       1999      Medium               Tier 1   \n",
       "3                       1998         NaN               Tier 3   \n",
       "4                       1987        High               Tier 3   \n",
       "\n",
       "         Outlet_Type  Item_Outlet_Sales  \n",
       "0  Supermarket Type1          3735.1380  \n",
       "1  Supermarket Type2           443.4228  \n",
       "2  Supermarket Type1          2097.2700  \n",
       "3      Grocery Store           732.3800  \n",
       "4  Supermarket Type1           994.7052  "
      ]
     },
     "execution_count": 1,
     "metadata": {},
     "output_type": "execute_result"
    }
   ],
   "source": [
    "# Part 1 - Loading data, importing libraries, previewing data\n",
    "# Rupee symbol - ₹\n",
    "\n",
    "import pandas as pd\n",
    "import numpy as np\n",
    "import seaborn as sns\n",
    "import matplotlib.pyplot as plt\n",
    "\n",
    "filename = '/content/sales_predictions.csv'\n",
    "df = pd.read_csv(filename)\n",
    "df.head()"
   ]
  },
  {
   "cell_type": "markdown",
   "metadata": {
    "id": "SmbNrEcypWe3"
   },
   "source": [
    "## Data Cleaning"
   ]
  },
  {
   "cell_type": "code",
   "execution_count": 2,
   "metadata": {
    "colab": {
     "base_uri": "https://localhost:8080/"
    },
    "id": "RsfHT5NePabM",
    "outputId": "0dcf0d43-0509-4fd8-fecd-10962dddf473"
   },
   "outputs": [
    {
     "data": {
      "text/plain": [
       "(8523, 12)"
      ]
     },
     "execution_count": 2,
     "metadata": {},
     "output_type": "execute_result"
    }
   ],
   "source": [
    "## Part 2 - Data Cleaning\n",
    "# 1. Display # of rows and columns\n",
    "df.shape"
   ]
  },
  {
   "cell_type": "markdown",
   "metadata": {
    "id": "M79u5KVYrBY4"
   },
   "source": [
    "Looks like there are  8523 rows, 12 columns"
   ]
  },
  {
   "cell_type": "code",
   "execution_count": 3,
   "metadata": {
    "colab": {
     "base_uri": "https://localhost:8080/"
    },
    "id": "Z7jbsZnCQoSQ",
    "outputId": "0f4dd3ef-af26-41b0-a069-418edbbf254d"
   },
   "outputs": [
    {
     "data": {
      "text/plain": [
       "Item_Identifier               object\n",
       "Item_Weight                  float64\n",
       "Item_Fat_Content              object\n",
       "Item_Visibility              float64\n",
       "Item_Type                     object\n",
       "Item_MRP                     float64\n",
       "Outlet_Identifier             object\n",
       "Outlet_Establishment_Year      int64\n",
       "Outlet_Size                   object\n",
       "Outlet_Location_Type          object\n",
       "Outlet_Type                   object\n",
       "Item_Outlet_Sales            float64\n",
       "dtype: object"
      ]
     },
     "execution_count": 3,
     "metadata": {},
     "output_type": "execute_result"
    }
   ],
   "source": [
    "# 2. Determine data types of all columns\n",
    "df.dtypes"
   ]
  },
  {
   "cell_type": "code",
   "execution_count": 4,
   "metadata": {
    "colab": {
     "base_uri": "https://localhost:8080/"
    },
    "id": "3Co8MEggQoI4",
    "outputId": "eed1b481-30a8-4571-b719-b804923e9ab2"
   },
   "outputs": [
    {
     "data": {
      "text/plain": [
       "0"
      ]
     },
     "execution_count": 4,
     "metadata": {},
     "output_type": "execute_result"
    }
   ],
   "source": [
    "# 3. Find and drop all duplicates\n",
    "df.duplicated().sum()"
   ]
  },
  {
   "cell_type": "markdown",
   "metadata": {
    "id": "OWNqGEo6rFf9"
   },
   "source": [
    "Looks like there are NO duplicates"
   ]
  },
  {
   "cell_type": "code",
   "execution_count": 5,
   "metadata": {
    "colab": {
     "base_uri": "https://localhost:8080/"
    },
    "id": "nTstt593V0QT",
    "outputId": "831fddb8-6094-43d6-f2b2-1c9ef99de282"
   },
   "outputs": [
    {
     "data": {
      "text/plain": [
       "Item_Identifier                 0\n",
       "Item_Weight                  1463\n",
       "Item_Fat_Content                0\n",
       "Item_Visibility                 0\n",
       "Item_Type                       0\n",
       "Item_MRP                        0\n",
       "Outlet_Identifier               0\n",
       "Outlet_Establishment_Year       0\n",
       "Outlet_Size                  2410\n",
       "Outlet_Location_Type            0\n",
       "Outlet_Type                     0\n",
       "Item_Outlet_Sales               0\n",
       "dtype: int64"
      ]
     },
     "execution_count": 5,
     "metadata": {},
     "output_type": "execute_result"
    }
   ],
   "source": [
    "# 4. Identify missing values:\n",
    "df.isna().sum()"
   ]
  },
  {
   "cell_type": "markdown",
   "metadata": {
    "id": "m4MfitXfqCrA"
   },
   "source": [
    "5 - Decide how to address missing values:\n",
    " For the 'Item_Weight' missing values I will insert the average of the existing item weights. Item weights are missing a significant amount of data, but that data seems too relevant to remove and only affects 1463 entries out of over 8500. Roughly estimating these values shouldn't affect our data too adversely. For the missing entries in 'Outlet_Size' I will simply fill in 'Missing' where there is missing data. The data affects roughly 30% of the data, which is significant, however we still have a column 'Outlet_Type' which contains similar information with no missing entries. "
   ]
  },
  {
   "cell_type": "code",
   "execution_count": 6,
   "metadata": {
    "colab": {
     "base_uri": "https://localhost:8080/"
    },
    "id": "pcvpIXMIeJaB",
    "outputId": "7aa8655c-bb35-4d3d-e779-860b25527615"
   },
   "outputs": [
    {
     "data": {
      "text/plain": [
       "Item_Identifier                 0\n",
       "Item_Weight                  1463\n",
       "Item_Fat_Content                0\n",
       "Item_Visibility                 0\n",
       "Item_Type                       0\n",
       "Item_MRP                        0\n",
       "Outlet_Identifier               0\n",
       "Outlet_Establishment_Year       0\n",
       "Outlet_Size                     0\n",
       "Outlet_Location_Type            0\n",
       "Outlet_Type                     0\n",
       "Item_Outlet_Sales               0\n",
       "dtype: int64"
      ]
     },
     "execution_count": 6,
     "metadata": {},
     "output_type": "execute_result"
    }
   ],
   "source": [
    "# 5. Fill in 'Outlet_Size' column with 'Missing' where there is missing data:\n",
    "\n",
    "df['Outlet_Size'].fillna('Missing', inplace = True)\n",
    "df.isna().sum()"
   ]
  },
  {
   "cell_type": "code",
   "execution_count": 7,
   "metadata": {
    "id": "wOOTVQRihgfw"
   },
   "outputs": [],
   "source": [
    "# 5. Insert the avg 'Item_Weight' where we have missing data: \n",
    "\n",
    "avg_weight = df['Item_Weight'].mean()\n",
    "df['Item_Weight'].fillna(avg_weight, inplace = True)"
   ]
  },
  {
   "cell_type": "code",
   "execution_count": 8,
   "metadata": {
    "colab": {
     "base_uri": "https://localhost:8080/"
    },
    "id": "BmijGn-oeI3n",
    "outputId": "5d8bf2da-9b96-4572-e385-cccd8f6b106b"
   },
   "outputs": [
    {
     "data": {
      "text/plain": [
       "Item_Identifier              0\n",
       "Item_Weight                  0\n",
       "Item_Fat_Content             0\n",
       "Item_Visibility              0\n",
       "Item_Type                    0\n",
       "Item_MRP                     0\n",
       "Outlet_Identifier            0\n",
       "Outlet_Establishment_Year    0\n",
       "Outlet_Size                  0\n",
       "Outlet_Location_Type         0\n",
       "Outlet_Type                  0\n",
       "Item_Outlet_Sales            0\n",
       "dtype: int64"
      ]
     },
     "execution_count": 8,
     "metadata": {},
     "output_type": "execute_result"
    }
   ],
   "source": [
    "# 6. Confirm there are no missing values:\n",
    "df.isna().sum()"
   ]
  },
  {
   "cell_type": "markdown",
   "metadata": {
    "id": "oO_h97cqrR24"
   },
   "source": [
    "Confirmed"
   ]
  },
  {
   "cell_type": "code",
   "execution_count": 9,
   "metadata": {
    "colab": {
     "base_uri": "https://localhost:8080/"
    },
    "id": "Pj0fN_p7l-IK",
    "outputId": "31513685-e3f4-48db-b5fa-64b482d21caa"
   },
   "outputs": [
    {
     "data": {
      "text/plain": [
       "Item_Identifier              1559\n",
       "Item_Weight                   416\n",
       "Item_Fat_Content                5\n",
       "Item_Visibility              7880\n",
       "Item_Type                      16\n",
       "Item_MRP                     5938\n",
       "Outlet_Identifier              10\n",
       "Outlet_Establishment_Year       9\n",
       "Outlet_Size                     4\n",
       "Outlet_Location_Type            3\n",
       "Outlet_Type                     4\n",
       "Item_Outlet_Sales            3493\n",
       "dtype: int64"
      ]
     },
     "execution_count": 9,
     "metadata": {},
     "output_type": "execute_result"
    }
   ],
   "source": [
    "# 7. Find and fix any inconsistent categories of data\n",
    "df.nunique()"
   ]
  },
  {
   "cell_type": "code",
   "execution_count": 10,
   "metadata": {
    "colab": {
     "base_uri": "https://localhost:8080/"
    },
    "id": "aDQ_Mh1CrxRq",
    "outputId": "1cf1625f-9ad7-472d-b1d1-772bec88ad8f"
   },
   "outputs": [
    {
     "data": {
      "text/plain": [
       "0.000000    526\n",
       "0.076975      3\n",
       "0.162462      2\n",
       "0.076841      2\n",
       "0.073562      2\n",
       "           ... \n",
       "0.013957      1\n",
       "0.110460      1\n",
       "0.124646      1\n",
       "0.054142      1\n",
       "0.044878      1\n",
       "Name: Item_Visibility, Length: 7880, dtype: int64"
      ]
     },
     "execution_count": 10,
     "metadata": {},
     "output_type": "execute_result"
    }
   ],
   "source": [
    "# 7. Find and fix any inconsistent categories of data\n",
    "\n",
    "df['Outlet_Type'].value_counts()\n",
    "df['Outlet_Location_Type'].value_counts()\n",
    "df['Outlet_Identifier'].value_counts()\n",
    "\n",
    "df['Item_Fat_Content'].value_counts()\n",
    "# 'Item_Fat_Content' contains some inconsistencies. \n",
    "\n",
    "df['Outlet_Establishment_Year'].value_counts()\n",
    "df['Item_Type'].value_counts()\n",
    "df['Item_Outlet_Sales'].value_counts()\n",
    "df['Outlet_Size'].value_counts()\n",
    "df['Item_Visibility'].value_counts()\n",
    "# Could not locate any other inconsistencies. "
   ]
  },
  {
   "cell_type": "code",
   "execution_count": 11,
   "metadata": {
    "colab": {
     "base_uri": "https://localhost:8080/"
    },
    "id": "Zj_7HcO3tTrs",
    "outputId": "1d2d9caa-4036-40c5-9531-83d022eb1425"
   },
   "outputs": [
    {
     "data": {
      "text/plain": [
       "Low Fat    5517\n",
       "Regular    3006\n",
       "Name: Item_Fat_Content, dtype: int64"
      ]
     },
     "execution_count": 11,
     "metadata": {},
     "output_type": "execute_result"
    }
   ],
   "source": [
    "# 7. Fix 'Item_Fat_Content' column \n",
    "df['Item_Fat_Content'] = df['Item_Fat_Content'].replace('LF', 'Low Fat')\n",
    "df['Item_Fat_Content'] = df['Item_Fat_Content'].replace('low fat', 'Low Fat')\n",
    "df['Item_Fat_Content'] = df['Item_Fat_Content'].replace('reg', 'Regular')\n",
    "df['Item_Fat_Content'].value_counts()\n",
    "\n",
    "## Much better"
   ]
  },
  {
   "cell_type": "code",
   "execution_count": 12,
   "metadata": {
    "colab": {
     "base_uri": "https://localhost:8080/",
     "height": 344
    },
    "id": "hzRae5AEvSK6",
    "outputId": "ab3779ec-9261-4a96-d47c-3118d02c444d"
   },
   "outputs": [
    {
     "data": {
      "text/html": [
       "\n",
       "  <div id=\"df-d4d8e7be-7fb4-45b2-80cb-80a9b16271e0\">\n",
       "    <div class=\"colab-df-container\">\n",
       "      <div>\n",
       "<style scoped>\n",
       "    .dataframe tbody tr th:only-of-type {\n",
       "        vertical-align: middle;\n",
       "    }\n",
       "\n",
       "    .dataframe tbody tr th {\n",
       "        vertical-align: top;\n",
       "    }\n",
       "\n",
       "    .dataframe thead th {\n",
       "        text-align: right;\n",
       "    }\n",
       "</style>\n",
       "<table border=\"1\" class=\"dataframe\">\n",
       "  <thead>\n",
       "    <tr style=\"text-align: right;\">\n",
       "      <th></th>\n",
       "      <th>Item_Weight</th>\n",
       "      <th>Item_Visibility</th>\n",
       "      <th>Item_MRP</th>\n",
       "      <th>Outlet_Establishment_Year</th>\n",
       "      <th>Item_Outlet_Sales</th>\n",
       "    </tr>\n",
       "  </thead>\n",
       "  <tbody>\n",
       "    <tr>\n",
       "      <th>count</th>\n",
       "      <td>8523.000000</td>\n",
       "      <td>8523.000000</td>\n",
       "      <td>8523.000000</td>\n",
       "      <td>8523.000000</td>\n",
       "      <td>8523.000000</td>\n",
       "    </tr>\n",
       "    <tr>\n",
       "      <th>mean</th>\n",
       "      <td>12.857645</td>\n",
       "      <td>0.066132</td>\n",
       "      <td>140.992782</td>\n",
       "      <td>1997.831867</td>\n",
       "      <td>2181.288914</td>\n",
       "    </tr>\n",
       "    <tr>\n",
       "      <th>std</th>\n",
       "      <td>4.226124</td>\n",
       "      <td>0.051598</td>\n",
       "      <td>62.275067</td>\n",
       "      <td>8.371760</td>\n",
       "      <td>1706.499616</td>\n",
       "    </tr>\n",
       "    <tr>\n",
       "      <th>min</th>\n",
       "      <td>4.555000</td>\n",
       "      <td>0.000000</td>\n",
       "      <td>31.290000</td>\n",
       "      <td>1985.000000</td>\n",
       "      <td>33.290000</td>\n",
       "    </tr>\n",
       "    <tr>\n",
       "      <th>25%</th>\n",
       "      <td>9.310000</td>\n",
       "      <td>0.026989</td>\n",
       "      <td>93.826500</td>\n",
       "      <td>1987.000000</td>\n",
       "      <td>834.247400</td>\n",
       "    </tr>\n",
       "    <tr>\n",
       "      <th>50%</th>\n",
       "      <td>12.857645</td>\n",
       "      <td>0.053931</td>\n",
       "      <td>143.012800</td>\n",
       "      <td>1999.000000</td>\n",
       "      <td>1794.331000</td>\n",
       "    </tr>\n",
       "    <tr>\n",
       "      <th>75%</th>\n",
       "      <td>16.000000</td>\n",
       "      <td>0.094585</td>\n",
       "      <td>185.643700</td>\n",
       "      <td>2004.000000</td>\n",
       "      <td>3101.296400</td>\n",
       "    </tr>\n",
       "    <tr>\n",
       "      <th>max</th>\n",
       "      <td>21.350000</td>\n",
       "      <td>0.328391</td>\n",
       "      <td>266.888400</td>\n",
       "      <td>2009.000000</td>\n",
       "      <td>13086.964800</td>\n",
       "    </tr>\n",
       "  </tbody>\n",
       "</table>\n",
       "</div>\n",
       "      <button class=\"colab-df-convert\" onclick=\"convertToInteractive('df-d4d8e7be-7fb4-45b2-80cb-80a9b16271e0')\"\n",
       "              title=\"Convert this dataframe to an interactive table.\"\n",
       "              style=\"display:none;\">\n",
       "        \n",
       "  <svg xmlns=\"http://www.w3.org/2000/svg\" height=\"24px\"viewBox=\"0 0 24 24\"\n",
       "       width=\"24px\">\n",
       "    <path d=\"M0 0h24v24H0V0z\" fill=\"none\"/>\n",
       "    <path d=\"M18.56 5.44l.94 2.06.94-2.06 2.06-.94-2.06-.94-.94-2.06-.94 2.06-2.06.94zm-11 1L8.5 8.5l.94-2.06 2.06-.94-2.06-.94L8.5 2.5l-.94 2.06-2.06.94zm10 10l.94 2.06.94-2.06 2.06-.94-2.06-.94-.94-2.06-.94 2.06-2.06.94z\"/><path d=\"M17.41 7.96l-1.37-1.37c-.4-.4-.92-.59-1.43-.59-.52 0-1.04.2-1.43.59L10.3 9.45l-7.72 7.72c-.78.78-.78 2.05 0 2.83L4 21.41c.39.39.9.59 1.41.59.51 0 1.02-.2 1.41-.59l7.78-7.78 2.81-2.81c.8-.78.8-2.07 0-2.86zM5.41 20L4 18.59l7.72-7.72 1.47 1.35L5.41 20z\"/>\n",
       "  </svg>\n",
       "      </button>\n",
       "      \n",
       "  <style>\n",
       "    .colab-df-container {\n",
       "      display:flex;\n",
       "      flex-wrap:wrap;\n",
       "      gap: 12px;\n",
       "    }\n",
       "\n",
       "    .colab-df-convert {\n",
       "      background-color: #E8F0FE;\n",
       "      border: none;\n",
       "      border-radius: 50%;\n",
       "      cursor: pointer;\n",
       "      display: none;\n",
       "      fill: #1967D2;\n",
       "      height: 32px;\n",
       "      padding: 0 0 0 0;\n",
       "      width: 32px;\n",
       "    }\n",
       "\n",
       "    .colab-df-convert:hover {\n",
       "      background-color: #E2EBFA;\n",
       "      box-shadow: 0px 1px 2px rgba(60, 64, 67, 0.3), 0px 1px 3px 1px rgba(60, 64, 67, 0.15);\n",
       "      fill: #174EA6;\n",
       "    }\n",
       "\n",
       "    [theme=dark] .colab-df-convert {\n",
       "      background-color: #3B4455;\n",
       "      fill: #D2E3FC;\n",
       "    }\n",
       "\n",
       "    [theme=dark] .colab-df-convert:hover {\n",
       "      background-color: #434B5C;\n",
       "      box-shadow: 0px 1px 3px 1px rgba(0, 0, 0, 0.15);\n",
       "      filter: drop-shadow(0px 1px 2px rgba(0, 0, 0, 0.3));\n",
       "      fill: #FFFFFF;\n",
       "    }\n",
       "  </style>\n",
       "\n",
       "      <script>\n",
       "        const buttonEl =\n",
       "          document.querySelector('#df-d4d8e7be-7fb4-45b2-80cb-80a9b16271e0 button.colab-df-convert');\n",
       "        buttonEl.style.display =\n",
       "          google.colab.kernel.accessAllowed ? 'block' : 'none';\n",
       "\n",
       "        async function convertToInteractive(key) {\n",
       "          const element = document.querySelector('#df-d4d8e7be-7fb4-45b2-80cb-80a9b16271e0');\n",
       "          const dataTable =\n",
       "            await google.colab.kernel.invokeFunction('convertToInteractive',\n",
       "                                                     [key], {});\n",
       "          if (!dataTable) return;\n",
       "\n",
       "          const docLinkHtml = 'Like what you see? Visit the ' +\n",
       "            '<a target=\"_blank\" href=https://colab.research.google.com/notebooks/data_table.ipynb>data table notebook</a>'\n",
       "            + ' to learn more about interactive tables.';\n",
       "          element.innerHTML = '';\n",
       "          dataTable['output_type'] = 'display_data';\n",
       "          await google.colab.output.renderOutput(dataTable, element);\n",
       "          const docLink = document.createElement('div');\n",
       "          docLink.innerHTML = docLinkHtml;\n",
       "          element.appendChild(docLink);\n",
       "        }\n",
       "      </script>\n",
       "    </div>\n",
       "  </div>\n",
       "  "
      ],
      "text/plain": [
       "       Item_Weight  Item_Visibility     Item_MRP  Outlet_Establishment_Year  \\\n",
       "count  8523.000000      8523.000000  8523.000000                8523.000000   \n",
       "mean     12.857645         0.066132   140.992782                1997.831867   \n",
       "std       4.226124         0.051598    62.275067                   8.371760   \n",
       "min       4.555000         0.000000    31.290000                1985.000000   \n",
       "25%       9.310000         0.026989    93.826500                1987.000000   \n",
       "50%      12.857645         0.053931   143.012800                1999.000000   \n",
       "75%      16.000000         0.094585   185.643700                2004.000000   \n",
       "max      21.350000         0.328391   266.888400                2009.000000   \n",
       "\n",
       "       Item_Outlet_Sales  \n",
       "count        8523.000000  \n",
       "mean         2181.288914  \n",
       "std          1706.499616  \n",
       "min            33.290000  \n",
       "25%           834.247400  \n",
       "50%          1794.331000  \n",
       "75%          3101.296400  \n",
       "max         13086.964800  "
      ]
     },
     "execution_count": 12,
     "metadata": {},
     "output_type": "execute_result"
    }
   ],
   "source": [
    "# 8. Obtain summary stats for each numerical column\n",
    "df.describe()"
   ]
  },
  {
   "cell_type": "markdown",
   "metadata": {
    "id": "w4MA8sYepeLD"
   },
   "source": [
    "## Exploratory Visuals"
   ]
  },
  {
   "cell_type": "code",
   "execution_count": 13,
   "metadata": {
    "colab": {
     "base_uri": "https://localhost:8080/",
     "height": 296
    },
    "id": "0EqnkCz6PxSZ",
    "outputId": "2d3562a5-13b8-4f68-b7dd-9f304ea3919e"
   },
   "outputs": [
    {
     "data": {
      "image/png": "[encoded data removed]",
      "text/plain": [
       "<Figure size 432x288 with 1 Axes>"
      ]
     },
     "metadata": {
      "needs_background": "light"
     },
     "output_type": "display_data"
    }
   ],
   "source": [
    "# Create histograms to view distributions of various features in the dataset \n",
    "ax = sns.histplot(data = df, x = 'Item_Outlet_Sales')\n",
    "median = df['Item_Outlet_Sales'].median()\n",
    "ax.set(title = 'Distribution of Item Sales')\n",
    "ax.axvline(median, color = 'black', linestyle = '--', \n",
    "            label = f'Median Item Sales = ${median}')\n",
    "ax.legend();"
   ]
  },
  {
   "cell_type": "markdown",
   "metadata": {
    "id": "SxEsAfmCssOS"
   },
   "source": [
    "Our distribution of item sales data seems to be fairly right-skewed. The majority of outlets had item sales of between 0-4000. A lesser portion of the outlets studied produced above $4000 in sales."
   ]
  },
  {
   "cell_type": "code",
   "execution_count": 14,
   "metadata": {
    "colab": {
     "base_uri": "https://localhost:8080/",
     "height": 296
    },
    "id": "bsTUFSeSQDnS",
    "outputId": "01eb1ff6-c83a-459c-da0d-31b86bbf1273"
   },
   "outputs": [
    {
     "data": {
      "image/png": "[encoded data removed]",
      "text/plain": [
       "<Figure size 432x288 with 1 Axes>"
      ]
     },
     "metadata": {
      "needs_background": "light"
     },
     "output_type": "display_data"
    }
   ],
   "source": [
    "# Create histograms to view distributions of various features in the dataset \n",
    "ax = sns.histplot(data = df, x = 'Item_MRP')\n",
    "median = df['Item_MRP'].median()\n",
    "ax.set(title = 'Distribution of Item MRP')\n",
    "ax.axvline(median, color = 'black', linestyle = '--', \n",
    "            label = f'Median Item MRP = ${median}')\n",
    "ax.legend();"
   ]
  },
  {
   "cell_type": "markdown",
   "metadata": {
    "id": "U2PnNHwAxXA3"
   },
   "source": [
    "At a quick glance at our item MRP distribution, we can easily tell the prices of items at these outlets are quite high. The median item MRP is 143 dollars, quite high for groceries. On top of that, a significant portion of items are priced above 143 dollars, with some products reaching above 250 dollars. "
   ]
  },
  {
   "cell_type": "code",
   "execution_count": 15,
   "metadata": {
    "colab": {
     "base_uri": "https://localhost:8080/",
     "height": 296
    },
    "id": "mH91DcIdSFfr",
    "outputId": "55a6d557-5ae0-4b4d-b4e5-2fe26780cebf"
   },
   "outputs": [
    {
     "data": {
      "image/png": "[encoded data removed]",
      "text/plain": [
       "<Figure size 432x288 with 1 Axes>"
      ]
     },
     "metadata": {
      "needs_background": "light"
     },
     "output_type": "display_data"
    }
   ],
   "source": [
    "# Create histograms to view distributions of various features in the dataset \n",
    "ax = sns.histplot(data = df, x = 'Item_Visibility')\n",
    "median = df['Item_Visibility'].median()\n",
    "ax.set(title = 'Distribution of Item Visibility')\n",
    "ax.axvline(median, color = 'black', linestyle = '--', \n",
    "            label = f'Median Item Visibility = {median}')\n",
    "ax.legend();"
   ]
  },
  {
   "cell_type": "markdown",
   "metadata": {
    "id": "s4uwyuyl0ZKf"
   },
   "source": [
    "The item visibility distribution is fairly right-skewed. Roughly half of items possess a lower visibility, with a median of around 0.05. Roughly half of items have a higher visibility, with some reaching up to 0.30."
   ]
  },
  {
   "cell_type": "code",
   "execution_count": 16,
   "metadata": {
    "colab": {
     "base_uri": "https://localhost:8080/",
     "height": 378
    },
    "id": "TuzbT8w1SWWc",
    "outputId": "20a24520-e034-4015-b56a-b4f933feb5bf"
   },
   "outputs": [
    {
     "data": {
      "image/png": "[encoded data removed]",
      "text/plain": [
       "<Figure size 432x288 with 1 Axes>"
      ]
     },
     "metadata": {
      "needs_background": "light"
     },
     "output_type": "display_data"
    }
   ],
   "source": [
    "# Create boxplots to view statistical summaries of Item_Type and Item_Outlet_Sales\n",
    "sns.boxplot(x = 'Item_Type', y = 'Item_Outlet_Sales', data = df)\n",
    "plt.xticks(rotation = 90);"
   ]
  },
  {
   "cell_type": "markdown",
   "metadata": {
    "id": "F922dgL-3Cd0"
   },
   "source": [
    "According to this boxplot of item type and item sales, the type of item did not affect sales very much. Most of the item types median sales lie around $2000. The only two item types who had significantly higher maximum values were 'starchy foods' and 'seafood'. "
   ]
  },
  {
   "cell_type": "code",
   "execution_count": 17,
   "metadata": {
    "colab": {
     "base_uri": "https://localhost:8080/",
     "height": 306
    },
    "id": "ytnxVYgOVgQk",
    "outputId": "7fbc2252-b545-4e83-b24f-144bdcf14b13"
   },
   "outputs": [
    {
     "data": {
      "image/png": "[encoded data removed]",
      "text/plain": [
       "<Figure size 432x288 with 1 Axes>"
      ]
     },
     "metadata": {
      "needs_background": "light"
     },
     "output_type": "display_data"
    }
   ],
   "source": [
    "# Create boxplots to view statistical summaries of Outlet_Size and Item_Outlet_Sales\n",
    "sns.boxplot(x = 'Outlet_Size', y = 'Item_Outlet_Sales', data = df)\n",
    "plt.xticks(rotation = 45);"
   ]
  },
  {
   "cell_type": "markdown",
   "metadata": {
    "id": "5zaUqhX33Ykv"
   },
   "source": [
    "According to our outlet size boxplot, the outlet size that corresponds with the highest item sales is 'medium'. This is an interesting find, as logic would imply that the largest outliet size would typically produce the most sales. "
   ]
  },
  {
   "cell_type": "code",
   "execution_count": 18,
   "metadata": {
    "colab": {
     "base_uri": "https://localhost:8080/",
     "height": 367
    },
    "id": "apX4GwT8XTX9",
    "outputId": "e50ce600-af1d-4e6d-e6bc-43b49b2a580f"
   },
   "outputs": [
    {
     "data": {
      "image/png": "[encoded data removed]",
      "text/plain": [
       "<Figure size 432x288 with 1 Axes>"
      ]
     },
     "metadata": {
      "needs_background": "light"
     },
     "output_type": "display_data"
    }
   ],
   "source": [
    "# Create boxplots to view statistical summaries of Outlet_Type and Item_Outlet_Sales\n",
    "sns.boxplot(x = 'Outlet_Type', y = 'Item_Outlet_Sales', data = df)\n",
    "plt.xticks(rotation = 90);"
   ]
  },
  {
   "cell_type": "markdown",
   "metadata": {
    "id": "lp-i3tEr3luN"
   },
   "source": [
    "According to this boxplot, the outlet type that corresponds with the highest item sales is 'SupermarketType3'. Grocery stores had the lowest item sales and the other two types of supermarkets produced roughly the same amount of sales. "
   ]
  },
  {
   "cell_type": "code",
   "execution_count": 19,
   "metadata": {
    "colab": {
     "base_uri": "https://localhost:8080/",
     "height": 392
    },
    "id": "L-VOejtHZg_e",
    "outputId": "82160559-ef8b-42ba-aba0-94a12cea13d0"
   },
   "outputs": [
    {
     "data": {
      "image/png": "[encoded data removed]",
      "text/plain": [
       "<Figure size 432x288 with 2 Axes>"
      ]
     },
     "metadata": {
      "needs_background": "light"
     },
     "output_type": "display_data"
    }
   ],
   "source": [
    "# Display correlation between features\n",
    "corr = df.corr()\n",
    "sns.heatmap(corr, cmap = 'Greens', annot = True);"
   ]
  },
  {
   "cell_type": "markdown",
   "metadata": {
    "id": "fpsTP2V03xOv"
   },
   "source": [
    "The heatmap doesn't show any strong relationships except that of 'Item_MRP' and 'Item_Outlet_Sales'. The 0.57 positive correlation implies that as item MRP increases, so does outlet sales. "
   ]
  },
  {
   "cell_type": "markdown",
   "metadata": {
    "id": "k2G-RMoFpibQ"
   },
   "source": [
    "## Explanatory Visuals"
   ]
  },
  {
   "cell_type": "code",
   "execution_count": 20,
   "metadata": {
    "colab": {
     "base_uri": "https://localhost:8080/",
     "height": 295
    },
    "id": "xnC_bHf62kD8",
    "outputId": "7f843418-040c-48c8-9e3c-f1733385fa3e"
   },
   "outputs": [
    {
     "data": {
      "image/png": "[encoded data removed]",
      "text/plain": [
       "<Figure size 432x288 with 1 Axes>"
      ]
     },
     "metadata": {
      "needs_background": "light"
     },
     "output_type": "display_data"
    }
   ],
   "source": [
    "# Construct scatterplot of Item_MRP and Sales\n",
    "ax = sns.scatterplot(data = df, x = 'Item_MRP', y = 'Item_Outlet_Sales', hue = 'Outlet_Type', palette = 'plasma')\n",
    "ax.set_title('Item MRP vs. Total Sales')\n",
    "ax.set_xlabel('Item MRP ($)')\n",
    "ax.set_ylabel('TotalOutletSales ($)')\n",
    "ax.legend(bbox_to_anchor = [1,1]);"
   ]
  },
  {
   "cell_type": "markdown",
   "metadata": {
    "id": "ZN3rSxMH3913"
   },
   "source": [
    "This graph illustrates several different trends between item MRP and total outlet sales. According to this scatter plot, the Outlet_Type definitely seems to influence total outlet sales. Grocery stores have much lower sales relative to the different types of supermarkets, with supermarket type 3 typically yielding the highest total sales. In addition, this plot also indicates that as item MRP increases, the outlet's total sales will likely also increase. "
   ]
  },
  {
   "cell_type": "code",
   "execution_count": 21,
   "metadata": {
    "colab": {
     "base_uri": "https://localhost:8080/",
     "height": 296
    },
    "id": "Za6k8fln9tVq",
    "outputId": "56681f51-fea4-4430-a6f5-d78eb894de47"
   },
   "outputs": [
    {
     "data": {
      "image/png": "[encoded data removed]",
      "text/plain": [
       "<Figure size 432x288 with 1 Axes>"
      ]
     },
     "metadata": {
      "needs_background": "light"
     },
     "output_type": "display_data"
    }
   ],
   "source": [
    "# Construct line plot of relationship between Outlet_Establishment_Year and Item_Outlet_Sales\n",
    "ax = sns.lineplot(data = df, x = 'Outlet_Establishment_Year', y = 'Item_Outlet_Sales', ci = None, marker = 'o');\n",
    "ax.set_title('Outlet Sales and Outlet Establishment Year');"
   ]
  },
  {
   "cell_type": "markdown",
   "metadata": {
    "id": "_s417wXJrmq4"
   },
   "source": [
    "The line graph of outlet sales over time yields some interesting information. According to this graph, the most profitable outlet location is also the oldest, having been established in 1985. There was little variation in outlet sales other than what looks like around 1997, when outlet sales dipped below 500. "
   ]
  },
  {
   "cell_type": "markdown",
   "metadata": {
    "id": "kq_qx7mu53-a"
   },
   "source": [
    "## PreProcessing data"
   ]
  },
  {
   "cell_type": "code",
   "execution_count": 22,
   "metadata": {
    "id": "tZv_aZtz8SBg"
   },
   "outputs": [],
   "source": [
    "# 1. Import libs\n",
    "from sklearn.preprocessing import StandardScaler, OneHotEncoder\n",
    "from sklearn.impute import SimpleImputer\n",
    "from sklearn.compose import make_column_transformer, make_column_selector\n",
    "from sklearn.pipeline import make_pipeline\n",
    "from sklearn.model_selection import train_test_split\n",
    "from sklearn import set_config\n",
    "set_config(display='diagram')"
   ]
  },
  {
   "cell_type": "code",
   "execution_count": 23,
   "metadata": {
    "colab": {
     "base_uri": "https://localhost:8080/",
     "height": 357
    },
    "id": "qozX8Xq053jl",
    "outputId": "5af65db7-f39d-48e7-ad1f-4d7cc20d59c0"
   },
   "outputs": [
    {
     "data": {
      "text/html": [
       "\n",
       "  <div id=\"df-315ce762-09b9-4d9b-8129-dd8a76f35e96\">\n",
       "    <div class=\"colab-df-container\">\n",
       "      <div>\n",
       "<style scoped>\n",
       "    .dataframe tbody tr th:only-of-type {\n",
       "        vertical-align: middle;\n",
       "    }\n",
       "\n",
       "    .dataframe tbody tr th {\n",
       "        vertical-align: top;\n",
       "    }\n",
       "\n",
       "    .dataframe thead th {\n",
       "        text-align: right;\n",
       "    }\n",
       "</style>\n",
       "<table border=\"1\" class=\"dataframe\">\n",
       "  <thead>\n",
       "    <tr style=\"text-align: right;\">\n",
       "      <th></th>\n",
       "      <th>Item_Identifier</th>\n",
       "      <th>Item_Weight</th>\n",
       "      <th>Item_Fat_Content</th>\n",
       "      <th>Item_Visibility</th>\n",
       "      <th>Item_Type</th>\n",
       "      <th>Item_MRP</th>\n",
       "      <th>Outlet_Identifier</th>\n",
       "      <th>Outlet_Establishment_Year</th>\n",
       "      <th>Outlet_Size</th>\n",
       "      <th>Outlet_Location_Type</th>\n",
       "      <th>Outlet_Type</th>\n",
       "      <th>Item_Outlet_Sales</th>\n",
       "    </tr>\n",
       "  </thead>\n",
       "  <tbody>\n",
       "    <tr>\n",
       "      <th>0</th>\n",
       "      <td>FDA15</td>\n",
       "      <td>9.30</td>\n",
       "      <td>Low Fat</td>\n",
       "      <td>0.016047</td>\n",
       "      <td>Dairy</td>\n",
       "      <td>249.8092</td>\n",
       "      <td>OUT049</td>\n",
       "      <td>1999</td>\n",
       "      <td>Medium</td>\n",
       "      <td>Tier 1</td>\n",
       "      <td>Supermarket Type1</td>\n",
       "      <td>3735.1380</td>\n",
       "    </tr>\n",
       "    <tr>\n",
       "      <th>1</th>\n",
       "      <td>DRC01</td>\n",
       "      <td>5.92</td>\n",
       "      <td>Regular</td>\n",
       "      <td>0.019278</td>\n",
       "      <td>Soft Drinks</td>\n",
       "      <td>48.2692</td>\n",
       "      <td>OUT018</td>\n",
       "      <td>2009</td>\n",
       "      <td>Medium</td>\n",
       "      <td>Tier 3</td>\n",
       "      <td>Supermarket Type2</td>\n",
       "      <td>443.4228</td>\n",
       "    </tr>\n",
       "    <tr>\n",
       "      <th>2</th>\n",
       "      <td>FDN15</td>\n",
       "      <td>17.50</td>\n",
       "      <td>Low Fat</td>\n",
       "      <td>0.016760</td>\n",
       "      <td>Meat</td>\n",
       "      <td>141.6180</td>\n",
       "      <td>OUT049</td>\n",
       "      <td>1999</td>\n",
       "      <td>Medium</td>\n",
       "      <td>Tier 1</td>\n",
       "      <td>Supermarket Type1</td>\n",
       "      <td>2097.2700</td>\n",
       "    </tr>\n",
       "    <tr>\n",
       "      <th>3</th>\n",
       "      <td>FDX07</td>\n",
       "      <td>19.20</td>\n",
       "      <td>Regular</td>\n",
       "      <td>0.000000</td>\n",
       "      <td>Fruits and Vegetables</td>\n",
       "      <td>182.0950</td>\n",
       "      <td>OUT010</td>\n",
       "      <td>1998</td>\n",
       "      <td>NaN</td>\n",
       "      <td>Tier 3</td>\n",
       "      <td>Grocery Store</td>\n",
       "      <td>732.3800</td>\n",
       "    </tr>\n",
       "    <tr>\n",
       "      <th>4</th>\n",
       "      <td>NCD19</td>\n",
       "      <td>8.93</td>\n",
       "      <td>Low Fat</td>\n",
       "      <td>0.000000</td>\n",
       "      <td>Household</td>\n",
       "      <td>53.8614</td>\n",
       "      <td>OUT013</td>\n",
       "      <td>1987</td>\n",
       "      <td>High</td>\n",
       "      <td>Tier 3</td>\n",
       "      <td>Supermarket Type1</td>\n",
       "      <td>994.7052</td>\n",
       "    </tr>\n",
       "  </tbody>\n",
       "</table>\n",
       "</div>\n",
       "      <button class=\"colab-df-convert\" onclick=\"convertToInteractive('df-315ce762-09b9-4d9b-8129-dd8a76f35e96')\"\n",
       "              title=\"Convert this dataframe to an interactive table.\"\n",
       "              style=\"display:none;\">\n",
       "        \n",
       "  <svg xmlns=\"http://www.w3.org/2000/svg\" height=\"24px\"viewBox=\"0 0 24 24\"\n",
       "       width=\"24px\">\n",
       "    <path d=\"M0 0h24v24H0V0z\" fill=\"none\"/>\n",
       "    <path d=\"M18.56 5.44l.94 2.06.94-2.06 2.06-.94-2.06-.94-.94-2.06-.94 2.06-2.06.94zm-11 1L8.5 8.5l.94-2.06 2.06-.94-2.06-.94L8.5 2.5l-.94 2.06-2.06.94zm10 10l.94 2.06.94-2.06 2.06-.94-2.06-.94-.94-2.06-.94 2.06-2.06.94z\"/><path d=\"M17.41 7.96l-1.37-1.37c-.4-.4-.92-.59-1.43-.59-.52 0-1.04.2-1.43.59L10.3 9.45l-7.72 7.72c-.78.78-.78 2.05 0 2.83L4 21.41c.39.39.9.59 1.41.59.51 0 1.02-.2 1.41-.59l7.78-7.78 2.81-2.81c.8-.78.8-2.07 0-2.86zM5.41 20L4 18.59l7.72-7.72 1.47 1.35L5.41 20z\"/>\n",
       "  </svg>\n",
       "      </button>\n",
       "      \n",
       "  <style>\n",
       "    .colab-df-container {\n",
       "      display:flex;\n",
       "      flex-wrap:wrap;\n",
       "      gap: 12px;\n",
       "    }\n",
       "\n",
       "    .colab-df-convert {\n",
       "      background-color: #E8F0FE;\n",
       "      border: none;\n",
       "      border-radius: 50%;\n",
       "      cursor: pointer;\n",
       "      display: none;\n",
       "      fill: #1967D2;\n",
       "      height: 32px;\n",
       "      padding: 0 0 0 0;\n",
       "      width: 32px;\n",
       "    }\n",
       "\n",
       "    .colab-df-convert:hover {\n",
       "      background-color: #E2EBFA;\n",
       "      box-shadow: 0px 1px 2px rgba(60, 64, 67, 0.3), 0px 1px 3px 1px rgba(60, 64, 67, 0.15);\n",
       "      fill: #174EA6;\n",
       "    }\n",
       "\n",
       "    [theme=dark] .colab-df-convert {\n",
       "      background-color: #3B4455;\n",
       "      fill: #D2E3FC;\n",
       "    }\n",
       "\n",
       "    [theme=dark] .colab-df-convert:hover {\n",
       "      background-color: #434B5C;\n",
       "      box-shadow: 0px 1px 3px 1px rgba(0, 0, 0, 0.15);\n",
       "      filter: drop-shadow(0px 1px 2px rgba(0, 0, 0, 0.3));\n",
       "      fill: #FFFFFF;\n",
       "    }\n",
       "  </style>\n",
       "\n",
       "      <script>\n",
       "        const buttonEl =\n",
       "          document.querySelector('#df-315ce762-09b9-4d9b-8129-dd8a76f35e96 button.colab-df-convert');\n",
       "        buttonEl.style.display =\n",
       "          google.colab.kernel.accessAllowed ? 'block' : 'none';\n",
       "\n",
       "        async function convertToInteractive(key) {\n",
       "          const element = document.querySelector('#df-315ce762-09b9-4d9b-8129-dd8a76f35e96');\n",
       "          const dataTable =\n",
       "            await google.colab.kernel.invokeFunction('convertToInteractive',\n",
       "                                                     [key], {});\n",
       "          if (!dataTable) return;\n",
       "\n",
       "          const docLinkHtml = 'Like what you see? Visit the ' +\n",
       "            '<a target=\"_blank\" href=https://colab.research.google.com/notebooks/data_table.ipynb>data table notebook</a>'\n",
       "            + ' to learn more about interactive tables.';\n",
       "          element.innerHTML = '';\n",
       "          dataTable['output_type'] = 'display_data';\n",
       "          await google.colab.output.renderOutput(dataTable, element);\n",
       "          const docLink = document.createElement('div');\n",
       "          docLink.innerHTML = docLinkHtml;\n",
       "          element.appendChild(docLink);\n",
       "        }\n",
       "      </script>\n",
       "    </div>\n",
       "  </div>\n",
       "  "
      ],
      "text/plain": [
       "  Item_Identifier  Item_Weight Item_Fat_Content  Item_Visibility  \\\n",
       "0           FDA15         9.30          Low Fat         0.016047   \n",
       "1           DRC01         5.92          Regular         0.019278   \n",
       "2           FDN15        17.50          Low Fat         0.016760   \n",
       "3           FDX07        19.20          Regular         0.000000   \n",
       "4           NCD19         8.93          Low Fat         0.000000   \n",
       "\n",
       "               Item_Type  Item_MRP Outlet_Identifier  \\\n",
       "0                  Dairy  249.8092            OUT049   \n",
       "1            Soft Drinks   48.2692            OUT018   \n",
       "2                   Meat  141.6180            OUT049   \n",
       "3  Fruits and Vegetables  182.0950            OUT010   \n",
       "4              Household   53.8614            OUT013   \n",
       "\n",
       "   Outlet_Establishment_Year Outlet_Size Outlet_Location_Type  \\\n",
       "0                       1999      Medium               Tier 1   \n",
       "1                       2009      Medium               Tier 3   \n",
       "2                       1999      Medium               Tier 1   \n",
       "3                       1998         NaN               Tier 3   \n",
       "4                       1987        High               Tier 3   \n",
       "\n",
       "         Outlet_Type  Item_Outlet_Sales  \n",
       "0  Supermarket Type1          3735.1380  \n",
       "1  Supermarket Type2           443.4228  \n",
       "2  Supermarket Type1          2097.2700  \n",
       "3      Grocery Store           732.3800  \n",
       "4  Supermarket Type1           994.7052  "
      ]
     },
     "execution_count": 23,
     "metadata": {},
     "output_type": "execute_result"
    }
   ],
   "source": [
    "# 2. Reload data \n",
    "filename = '/content/sales_predictions.csv'\n",
    "df = pd.read_csv(filename)\n",
    "df.head()"
   ]
  },
  {
   "cell_type": "code",
   "execution_count": 24,
   "metadata": {
    "id": "2W2sHW0RJpCD"
   },
   "outputs": [],
   "source": [
    "# Make copy of original df\n",
    "ml_df = df.copy()"
   ]
  },
  {
   "cell_type": "code",
   "execution_count": 25,
   "metadata": {
    "id": "-MEul_Rex6Qg"
   },
   "outputs": [],
   "source": [
    "# drop unnecessary columns\n",
    "ml_df = ml_df.drop(columns=['Item_Identifier', 'Item_Visibility',\n",
    "  'Outlet_Identifier', 'Item_Type', 'Outlet_Type', 'Outlet_Establishment_Year', 'Outlet_Location_Type'])"
   ]
  },
  {
   "cell_type": "code",
   "execution_count": 26,
   "metadata": {
    "colab": {
     "base_uri": "https://localhost:8080/"
    },
    "id": "m3DHC5eCACos",
    "outputId": "be637518-3641-4411-9aef-81d5278c7be2"
   },
   "outputs": [
    {
     "data": {
      "text/plain": [
       "Low Fat    5089\n",
       "Regular    2889\n",
       "LF          316\n",
       "reg         117\n",
       "low fat     112\n",
       "Name: Item_Fat_Content, dtype: int64"
      ]
     },
     "execution_count": 26,
     "metadata": {},
     "output_type": "execute_result"
    }
   ],
   "source": [
    "# 3. explore data \n",
    "ml_df['Item_Fat_Content'].value_counts()"
   ]
  },
  {
   "cell_type": "code",
   "execution_count": 27,
   "metadata": {
    "colab": {
     "base_uri": "https://localhost:8080/"
    },
    "id": "Xqy9exWGyFo8",
    "outputId": "1797e5c8-6ddc-490b-9fe7-3d8f023fd7c0"
   },
   "outputs": [
    {
     "data": {
      "text/plain": [
       "3"
      ]
     },
     "execution_count": 27,
     "metadata": {},
     "output_type": "execute_result"
    }
   ],
   "source": [
    "# check for duplicates\n",
    "ml_df.duplicated().sum()"
   ]
  },
  {
   "cell_type": "code",
   "execution_count": 28,
   "metadata": {
    "colab": {
     "base_uri": "https://localhost:8080/"
    },
    "id": "QOSCi9BkyKpR",
    "outputId": "9b430500-2f4b-4b80-e797-1a70ec9413ef"
   },
   "outputs": [
    {
     "data": {
      "text/plain": [
       "0"
      ]
     },
     "execution_count": 28,
     "metadata": {},
     "output_type": "execute_result"
    }
   ],
   "source": [
    "# drop duplicates \n",
    "ml_df.drop_duplicates(inplace=True)\n",
    "ml_df.duplicated().sum()"
   ]
  },
  {
   "cell_type": "code",
   "execution_count": 29,
   "metadata": {
    "colab": {
     "base_uri": "https://localhost:8080/"
    },
    "id": "XriiJDuzyS0w",
    "outputId": "f0b33697-40de-4746-d1fa-7643b01b3efe"
   },
   "outputs": [
    {
     "data": {
      "text/plain": [
       "Item_Weight          1460\n",
       "Item_Fat_Content        0\n",
       "Item_MRP                0\n",
       "Outlet_Size          2410\n",
       "Item_Outlet_Sales       0\n",
       "dtype: int64"
      ]
     },
     "execution_count": 29,
     "metadata": {},
     "output_type": "execute_result"
    }
   ],
   "source": [
    "# check for missing values \n",
    "ml_df.isna().sum()"
   ]
  },
  {
   "cell_type": "code",
   "execution_count": 30,
   "metadata": {
    "id": "KrlO-ma0HggL"
   },
   "outputs": [],
   "source": [
    "# 4. Validation split \n",
    "X = ml_df.drop('Item_Outlet_Sales', axis = 1)\n",
    "y = ml_df['Item_Outlet_Sales']\n",
    "X_train, X_test, y_train, y_test = train_test_split(X, y, random_state=42)"
   ]
  },
  {
   "cell_type": "code",
   "execution_count": 31,
   "metadata": {
    "id": "aQJSirBkL9OD"
   },
   "outputs": [],
   "source": [
    "# 5. Instantiate column selectors\n",
    "cat_selector = make_column_selector(dtype_include = 'object')\n",
    "num_selector = make_column_selector(dtype_include = 'number')"
   ]
  },
  {
   "cell_type": "code",
   "execution_count": 32,
   "metadata": {
    "id": "Rb5UlFFZMHgb"
   },
   "outputs": [],
   "source": [
    "# 6. Instantiate transformers \n",
    "# Imputers \n",
    "freq_imputer = SimpleImputer(strategy = 'most_frequent')\n",
    "mean_imputer = SimpleImputer(strategy = 'mean')\n",
    "\n",
    "# scaler\n",
    "scaler = StandardScaler()\n",
    "\n",
    "# OHE\n",
    "ohe = OneHotEncoder(handle_unknown='ignore', sparse = False)"
   ]
  },
  {
   "cell_type": "code",
   "execution_count": 33,
   "metadata": {
    "colab": {
     "base_uri": "https://localhost:8080/"
    },
    "id": "8bZ4QHMBImHl",
    "outputId": "5cfba13c-88ba-46a2-d6a9-26e5b0ead379"
   },
   "outputs": [
    {
     "data": {
      "text/plain": [
       "1.0    2790\n",
       "0.0    2388\n",
       "2.0     932\n",
       "Name: Outlet_Size, dtype: int64"
      ]
     },
     "execution_count": 33,
     "metadata": {},
     "output_type": "execute_result"
    }
   ],
   "source": [
    "# Begin ordinal encoding\n",
    "replaceDict = {'Small': 0, 'Medium' : 1, 'High': 2}\n",
    "ml_df['Outlet_Size'].replace(replaceDict, inplace = True)\n",
    "ml_df['Outlet_Size'].value_counts()"
   ]
  },
  {
   "cell_type": "code",
   "execution_count": 34,
   "metadata": {
    "colab": {
     "base_uri": "https://localhost:8080/"
    },
    "id": "ycJ8KTJkIuAy",
    "outputId": "7fa6f5a5-47e2-4d79-aefe-aeb172d55bac"
   },
   "outputs": [
    {
     "data": {
      "text/plain": [
       "0.0    1385\n",
       "1.0     745\n",
       "Name: Item_Fat_Content, dtype: int64"
      ]
     },
     "execution_count": 34,
     "metadata": {},
     "output_type": "execute_result"
    }
   ],
   "source": [
    "# continue ordinal encoding\n",
    "rDict = {'Low Fat': 0, 'LF': 0, 'low fat': 0, 'Regular': 1, 'reg': 1}\n",
    "ml_df['Item_Fat_Content'] = X_train['Item_Fat_Content'].replace(rDict)\n",
    "ml_df['Item_Fat_Content'] = X_test['Item_Fat_Content'].replace(rDict)\n",
    "ml_df['Item_Fat_Content'].value_counts()"
   ]
  },
  {
   "cell_type": "code",
   "execution_count": 35,
   "metadata": {
    "colab": {
     "base_uri": "https://localhost:8080/",
     "height": 126
    },
    "id": "pVtUpuy4M3dS",
    "outputId": "3541090e-8eca-4c57-fd6f-f42f3d1fc641"
   },
   "outputs": [
    {
     "data": {
      "text/html": [
       "<style>#sk-307b3635-630a-4bb0-b400-fd15ceafeb7d {color: black;background-color: white;}#sk-307b3635-630a-4bb0-b400-fd15ceafeb7d pre{padding: 0;}#sk-307b3635-630a-4bb0-b400-fd15ceafeb7d div.sk-toggleable {background-color: white;}#sk-307b3635-630a-4bb0-b400-fd15ceafeb7d label.sk-toggleable__label {cursor: pointer;display: block;width: 100%;margin-bottom: 0;padding: 0.3em;box-sizing: border-box;text-align: center;}#sk-307b3635-630a-4bb0-b400-fd15ceafeb7d label.sk-toggleable__label-arrow:before {content: \"▸\";float: left;margin-right: 0.25em;color: #696969;}#sk-307b3635-630a-4bb0-b400-fd15ceafeb7d label.sk-toggleable__label-arrow:hover:before {color: black;}#sk-307b3635-630a-4bb0-b400-fd15ceafeb7d div.sk-estimator:hover label.sk-toggleable__label-arrow:before {color: black;}#sk-307b3635-630a-4bb0-b400-fd15ceafeb7d div.sk-toggleable__content {max-height: 0;max-width: 0;overflow: hidden;text-align: left;background-color: #f0f8ff;}#sk-307b3635-630a-4bb0-b400-fd15ceafeb7d div.sk-toggleable__content pre {margin: 0.2em;color: black;border-radius: 0.25em;background-color: #f0f8ff;}#sk-307b3635-630a-4bb0-b400-fd15ceafeb7d input.sk-toggleable__control:checked~div.sk-toggleable__content {max-height: 200px;max-width: 100%;overflow: auto;}#sk-307b3635-630a-4bb0-b400-fd15ceafeb7d input.sk-toggleable__control:checked~label.sk-toggleable__label-arrow:before {content: \"▾\";}#sk-307b3635-630a-4bb0-b400-fd15ceafeb7d div.sk-estimator input.sk-toggleable__control:checked~label.sk-toggleable__label {background-color: #d4ebff;}#sk-307b3635-630a-4bb0-b400-fd15ceafeb7d div.sk-label input.sk-toggleable__control:checked~label.sk-toggleable__label {background-color: #d4ebff;}#sk-307b3635-630a-4bb0-b400-fd15ceafeb7d input.sk-hidden--visually {border: 0;clip: rect(1px 1px 1px 1px);clip: rect(1px, 1px, 1px, 1px);height: 1px;margin: -1px;overflow: hidden;padding: 0;position: absolute;width: 1px;}#sk-307b3635-630a-4bb0-b400-fd15ceafeb7d div.sk-estimator {font-family: monospace;background-color: #f0f8ff;border: 1px dotted black;border-radius: 0.25em;box-sizing: border-box;margin-bottom: 0.5em;}#sk-307b3635-630a-4bb0-b400-fd15ceafeb7d div.sk-estimator:hover {background-color: #d4ebff;}#sk-307b3635-630a-4bb0-b400-fd15ceafeb7d div.sk-parallel-item::after {content: \"\";width: 100%;border-bottom: 1px solid gray;flex-grow: 1;}#sk-307b3635-630a-4bb0-b400-fd15ceafeb7d div.sk-label:hover label.sk-toggleable__label {background-color: #d4ebff;}#sk-307b3635-630a-4bb0-b400-fd15ceafeb7d div.sk-serial::before {content: \"\";position: absolute;border-left: 1px solid gray;box-sizing: border-box;top: 2em;bottom: 0;left: 50%;}#sk-307b3635-630a-4bb0-b400-fd15ceafeb7d div.sk-serial {display: flex;flex-direction: column;align-items: center;background-color: white;padding-right: 0.2em;padding-left: 0.2em;}#sk-307b3635-630a-4bb0-b400-fd15ceafeb7d div.sk-item {z-index: 1;}#sk-307b3635-630a-4bb0-b400-fd15ceafeb7d div.sk-parallel {display: flex;align-items: stretch;justify-content: center;background-color: white;}#sk-307b3635-630a-4bb0-b400-fd15ceafeb7d div.sk-parallel::before {content: \"\";position: absolute;border-left: 1px solid gray;box-sizing: border-box;top: 2em;bottom: 0;left: 50%;}#sk-307b3635-630a-4bb0-b400-fd15ceafeb7d div.sk-parallel-item {display: flex;flex-direction: column;position: relative;background-color: white;}#sk-307b3635-630a-4bb0-b400-fd15ceafeb7d div.sk-parallel-item:first-child::after {align-self: flex-end;width: 50%;}#sk-307b3635-630a-4bb0-b400-fd15ceafeb7d div.sk-parallel-item:last-child::after {align-self: flex-start;width: 50%;}#sk-307b3635-630a-4bb0-b400-fd15ceafeb7d div.sk-parallel-item:only-child::after {width: 0;}#sk-307b3635-630a-4bb0-b400-fd15ceafeb7d div.sk-dashed-wrapped {border: 1px dashed gray;margin: 0 0.4em 0.5em 0.4em;box-sizing: border-box;padding-bottom: 0.4em;background-color: white;position: relative;}#sk-307b3635-630a-4bb0-b400-fd15ceafeb7d div.sk-label label {font-family: monospace;font-weight: bold;background-color: white;display: inline-block;line-height: 1.2em;}#sk-307b3635-630a-4bb0-b400-fd15ceafeb7d div.sk-label-container {position: relative;z-index: 2;text-align: center;}#sk-307b3635-630a-4bb0-b400-fd15ceafeb7d div.sk-container {/* jupyter's `normalize.less` sets `[hidden] { display: none; }` but bootstrap.min.css set `[hidden] { display: none !important; }` so we also need the `!important` here to be able to override the default hidden behavior on the sphinx rendered scikit-learn.org. See: https://github.com/scikit-learn/scikit-learn/issues/21755 */display: inline-block !important;position: relative;}#sk-307b3635-630a-4bb0-b400-fd15ceafeb7d div.sk-text-repr-fallback {display: none;}</style><div id=\"sk-307b3635-630a-4bb0-b400-fd15ceafeb7d\" class=\"sk-top-container\"><div class=\"sk-text-repr-fallback\"><pre>Pipeline(steps=[(&#x27;simpleimputer&#x27;, SimpleImputer()),\n",
       "                (&#x27;standardscaler&#x27;, StandardScaler())])</pre><b>Please rerun this cell to show the HTML repr or trust the notebook.</b></div><div class=\"sk-container\" hidden><div class=\"sk-item sk-dashed-wrapped\"><div class=\"sk-label-container\"><div class=\"sk-label sk-toggleable\"><input class=\"sk-toggleable__control sk-hidden--visually\" id=\"ac0161db-441d-4f3c-a20b-22f30e7214d7\" type=\"checkbox\" ><label for=\"ac0161db-441d-4f3c-a20b-22f30e7214d7\" class=\"sk-toggleable__label sk-toggleable__label-arrow\">Pipeline</label><div class=\"sk-toggleable__content\"><pre>Pipeline(steps=[(&#x27;simpleimputer&#x27;, SimpleImputer()),\n",
       "                (&#x27;standardscaler&#x27;, StandardScaler())])</pre></div></div></div><div class=\"sk-serial\"><div class=\"sk-item\"><div class=\"sk-estimator sk-toggleable\"><input class=\"sk-toggleable__control sk-hidden--visually\" id=\"35bae797-0b68-42d1-9039-d61750625fd5\" type=\"checkbox\" ><label for=\"35bae797-0b68-42d1-9039-d61750625fd5\" class=\"sk-toggleable__label sk-toggleable__label-arrow\">SimpleImputer</label><div class=\"sk-toggleable__content\"><pre>SimpleImputer()</pre></div></div></div><div class=\"sk-item\"><div class=\"sk-estimator sk-toggleable\"><input class=\"sk-toggleable__control sk-hidden--visually\" id=\"962e5610-d0ac-4e26-9bbb-205fe2513012\" type=\"checkbox\" ><label for=\"962e5610-d0ac-4e26-9bbb-205fe2513012\" class=\"sk-toggleable__label sk-toggleable__label-arrow\">StandardScaler</label><div class=\"sk-toggleable__content\"><pre>StandardScaler()</pre></div></div></div></div></div></div></div>"
      ],
      "text/plain": [
       "Pipeline(steps=[('simpleimputer', SimpleImputer()),\n",
       "                ('standardscaler', StandardScaler())])"
      ]
     },
     "execution_count": 35,
     "metadata": {},
     "output_type": "execute_result"
    }
   ],
   "source": [
    "# 7. Instantiate pipelines\n",
    "# Numeric pipeline\n",
    "num_pipe = make_pipeline(mean_imputer, scaler)\n",
    "num_pipe"
   ]
  },
  {
   "cell_type": "code",
   "execution_count": 36,
   "metadata": {
    "colab": {
     "base_uri": "https://localhost:8080/",
     "height": 126
    },
    "id": "VTAjue5jM57l",
    "outputId": "a03b271c-e431-4c1a-c4ee-9f1b8c28a4e2"
   },
   "outputs": [
    {
     "data": {
      "text/html": [
       "<style>#sk-8f04b31f-fbcc-4dd7-83dd-a0f66a9dfaae {color: black;background-color: white;}#sk-8f04b31f-fbcc-4dd7-83dd-a0f66a9dfaae pre{padding: 0;}#sk-8f04b31f-fbcc-4dd7-83dd-a0f66a9dfaae div.sk-toggleable {background-color: white;}#sk-8f04b31f-fbcc-4dd7-83dd-a0f66a9dfaae label.sk-toggleable__label {cursor: pointer;display: block;width: 100%;margin-bottom: 0;padding: 0.3em;box-sizing: border-box;text-align: center;}#sk-8f04b31f-fbcc-4dd7-83dd-a0f66a9dfaae label.sk-toggleable__label-arrow:before {content: \"▸\";float: left;margin-right: 0.25em;color: #696969;}#sk-8f04b31f-fbcc-4dd7-83dd-a0f66a9dfaae label.sk-toggleable__label-arrow:hover:before {color: black;}#sk-8f04b31f-fbcc-4dd7-83dd-a0f66a9dfaae div.sk-estimator:hover label.sk-toggleable__label-arrow:before {color: black;}#sk-8f04b31f-fbcc-4dd7-83dd-a0f66a9dfaae div.sk-toggleable__content {max-height: 0;max-width: 0;overflow: hidden;text-align: left;background-color: #f0f8ff;}#sk-8f04b31f-fbcc-4dd7-83dd-a0f66a9dfaae div.sk-toggleable__content pre {margin: 0.2em;color: black;border-radius: 0.25em;background-color: #f0f8ff;}#sk-8f04b31f-fbcc-4dd7-83dd-a0f66a9dfaae input.sk-toggleable__control:checked~div.sk-toggleable__content {max-height: 200px;max-width: 100%;overflow: auto;}#sk-8f04b31f-fbcc-4dd7-83dd-a0f66a9dfaae input.sk-toggleable__control:checked~label.sk-toggleable__label-arrow:before {content: \"▾\";}#sk-8f04b31f-fbcc-4dd7-83dd-a0f66a9dfaae div.sk-estimator input.sk-toggleable__control:checked~label.sk-toggleable__label {background-color: #d4ebff;}#sk-8f04b31f-fbcc-4dd7-83dd-a0f66a9dfaae div.sk-label input.sk-toggleable__control:checked~label.sk-toggleable__label {background-color: #d4ebff;}#sk-8f04b31f-fbcc-4dd7-83dd-a0f66a9dfaae input.sk-hidden--visually {border: 0;clip: rect(1px 1px 1px 1px);clip: rect(1px, 1px, 1px, 1px);height: 1px;margin: -1px;overflow: hidden;padding: 0;position: absolute;width: 1px;}#sk-8f04b31f-fbcc-4dd7-83dd-a0f66a9dfaae div.sk-estimator {font-family: monospace;background-color: #f0f8ff;border: 1px dotted black;border-radius: 0.25em;box-sizing: border-box;margin-bottom: 0.5em;}#sk-8f04b31f-fbcc-4dd7-83dd-a0f66a9dfaae div.sk-estimator:hover {background-color: #d4ebff;}#sk-8f04b31f-fbcc-4dd7-83dd-a0f66a9dfaae div.sk-parallel-item::after {content: \"\";width: 100%;border-bottom: 1px solid gray;flex-grow: 1;}#sk-8f04b31f-fbcc-4dd7-83dd-a0f66a9dfaae div.sk-label:hover label.sk-toggleable__label {background-color: #d4ebff;}#sk-8f04b31f-fbcc-4dd7-83dd-a0f66a9dfaae div.sk-serial::before {content: \"\";position: absolute;border-left: 1px solid gray;box-sizing: border-box;top: 2em;bottom: 0;left: 50%;}#sk-8f04b31f-fbcc-4dd7-83dd-a0f66a9dfaae div.sk-serial {display: flex;flex-direction: column;align-items: center;background-color: white;padding-right: 0.2em;padding-left: 0.2em;}#sk-8f04b31f-fbcc-4dd7-83dd-a0f66a9dfaae div.sk-item {z-index: 1;}#sk-8f04b31f-fbcc-4dd7-83dd-a0f66a9dfaae div.sk-parallel {display: flex;align-items: stretch;justify-content: center;background-color: white;}#sk-8f04b31f-fbcc-4dd7-83dd-a0f66a9dfaae div.sk-parallel::before {content: \"\";position: absolute;border-left: 1px solid gray;box-sizing: border-box;top: 2em;bottom: 0;left: 50%;}#sk-8f04b31f-fbcc-4dd7-83dd-a0f66a9dfaae div.sk-parallel-item {display: flex;flex-direction: column;position: relative;background-color: white;}#sk-8f04b31f-fbcc-4dd7-83dd-a0f66a9dfaae div.sk-parallel-item:first-child::after {align-self: flex-end;width: 50%;}#sk-8f04b31f-fbcc-4dd7-83dd-a0f66a9dfaae div.sk-parallel-item:last-child::after {align-self: flex-start;width: 50%;}#sk-8f04b31f-fbcc-4dd7-83dd-a0f66a9dfaae div.sk-parallel-item:only-child::after {width: 0;}#sk-8f04b31f-fbcc-4dd7-83dd-a0f66a9dfaae div.sk-dashed-wrapped {border: 1px dashed gray;margin: 0 0.4em 0.5em 0.4em;box-sizing: border-box;padding-bottom: 0.4em;background-color: white;position: relative;}#sk-8f04b31f-fbcc-4dd7-83dd-a0f66a9dfaae div.sk-label label {font-family: monospace;font-weight: bold;background-color: white;display: inline-block;line-height: 1.2em;}#sk-8f04b31f-fbcc-4dd7-83dd-a0f66a9dfaae div.sk-label-container {position: relative;z-index: 2;text-align: center;}#sk-8f04b31f-fbcc-4dd7-83dd-a0f66a9dfaae div.sk-container {/* jupyter's `normalize.less` sets `[hidden] { display: none; }` but bootstrap.min.css set `[hidden] { display: none !important; }` so we also need the `!important` here to be able to override the default hidden behavior on the sphinx rendered scikit-learn.org. See: https://github.com/scikit-learn/scikit-learn/issues/21755 */display: inline-block !important;position: relative;}#sk-8f04b31f-fbcc-4dd7-83dd-a0f66a9dfaae div.sk-text-repr-fallback {display: none;}</style><div id=\"sk-8f04b31f-fbcc-4dd7-83dd-a0f66a9dfaae\" class=\"sk-top-container\"><div class=\"sk-text-repr-fallback\"><pre>Pipeline(steps=[(&#x27;simpleimputer&#x27;, SimpleImputer(strategy=&#x27;most_frequent&#x27;)),\n",
       "                (&#x27;onehotencoder&#x27;,\n",
       "                 OneHotEncoder(handle_unknown=&#x27;ignore&#x27;, sparse=False))])</pre><b>Please rerun this cell to show the HTML repr or trust the notebook.</b></div><div class=\"sk-container\" hidden><div class=\"sk-item sk-dashed-wrapped\"><div class=\"sk-label-container\"><div class=\"sk-label sk-toggleable\"><input class=\"sk-toggleable__control sk-hidden--visually\" id=\"486f811d-c49d-4c2e-b94a-99b4e7716064\" type=\"checkbox\" ><label for=\"486f811d-c49d-4c2e-b94a-99b4e7716064\" class=\"sk-toggleable__label sk-toggleable__label-arrow\">Pipeline</label><div class=\"sk-toggleable__content\"><pre>Pipeline(steps=[(&#x27;simpleimputer&#x27;, SimpleImputer(strategy=&#x27;most_frequent&#x27;)),\n",
       "                (&#x27;onehotencoder&#x27;,\n",
       "                 OneHotEncoder(handle_unknown=&#x27;ignore&#x27;, sparse=False))])</pre></div></div></div><div class=\"sk-serial\"><div class=\"sk-item\"><div class=\"sk-estimator sk-toggleable\"><input class=\"sk-toggleable__control sk-hidden--visually\" id=\"4d02fbf7-6e72-47c7-a5df-9837448fdc5f\" type=\"checkbox\" ><label for=\"4d02fbf7-6e72-47c7-a5df-9837448fdc5f\" class=\"sk-toggleable__label sk-toggleable__label-arrow\">SimpleImputer</label><div class=\"sk-toggleable__content\"><pre>SimpleImputer(strategy=&#x27;most_frequent&#x27;)</pre></div></div></div><div class=\"sk-item\"><div class=\"sk-estimator sk-toggleable\"><input class=\"sk-toggleable__control sk-hidden--visually\" id=\"29c36813-acf2-4164-be6f-0d5f9239a738\" type=\"checkbox\" ><label for=\"29c36813-acf2-4164-be6f-0d5f9239a738\" class=\"sk-toggleable__label sk-toggleable__label-arrow\">OneHotEncoder</label><div class=\"sk-toggleable__content\"><pre>OneHotEncoder(handle_unknown=&#x27;ignore&#x27;, sparse=False)</pre></div></div></div></div></div></div></div>"
      ],
      "text/plain": [
       "Pipeline(steps=[('simpleimputer', SimpleImputer(strategy='most_frequent')),\n",
       "                ('onehotencoder',\n",
       "                 OneHotEncoder(handle_unknown='ignore', sparse=False))])"
      ]
     },
     "execution_count": 36,
     "metadata": {},
     "output_type": "execute_result"
    }
   ],
   "source": [
    "# Categorical pipeline\n",
    "cat_pipe = make_pipeline(freq_imputer, ohe)\n",
    "cat_pipe"
   ]
  },
  {
   "cell_type": "code",
   "execution_count": 37,
   "metadata": {
    "colab": {
     "base_uri": "https://localhost:8080/",
     "height": 152
    },
    "id": "EPOqrSPhNAd1",
    "outputId": "05cb737d-1d43-4524-c75c-19a6a9462f80"
   },
   "outputs": [
    {
     "data": {
      "text/html": [
       "<style>#sk-ee04bf09-a315-4364-ad7c-e6275e4792f5 {color: black;background-color: white;}#sk-ee04bf09-a315-4364-ad7c-e6275e4792f5 pre{padding: 0;}#sk-ee04bf09-a315-4364-ad7c-e6275e4792f5 div.sk-toggleable {background-color: white;}#sk-ee04bf09-a315-4364-ad7c-e6275e4792f5 label.sk-toggleable__label {cursor: pointer;display: block;width: 100%;margin-bottom: 0;padding: 0.3em;box-sizing: border-box;text-align: center;}#sk-ee04bf09-a315-4364-ad7c-e6275e4792f5 label.sk-toggleable__label-arrow:before {content: \"▸\";float: left;margin-right: 0.25em;color: #696969;}#sk-ee04bf09-a315-4364-ad7c-e6275e4792f5 label.sk-toggleable__label-arrow:hover:before {color: black;}#sk-ee04bf09-a315-4364-ad7c-e6275e4792f5 div.sk-estimator:hover label.sk-toggleable__label-arrow:before {color: black;}#sk-ee04bf09-a315-4364-ad7c-e6275e4792f5 div.sk-toggleable__content {max-height: 0;max-width: 0;overflow: hidden;text-align: left;background-color: #f0f8ff;}#sk-ee04bf09-a315-4364-ad7c-e6275e4792f5 div.sk-toggleable__content pre {margin: 0.2em;color: black;border-radius: 0.25em;background-color: #f0f8ff;}#sk-ee04bf09-a315-4364-ad7c-e6275e4792f5 input.sk-toggleable__control:checked~div.sk-toggleable__content {max-height: 200px;max-width: 100%;overflow: auto;}#sk-ee04bf09-a315-4364-ad7c-e6275e4792f5 input.sk-toggleable__control:checked~label.sk-toggleable__label-arrow:before {content: \"▾\";}#sk-ee04bf09-a315-4364-ad7c-e6275e4792f5 div.sk-estimator input.sk-toggleable__control:checked~label.sk-toggleable__label {background-color: #d4ebff;}#sk-ee04bf09-a315-4364-ad7c-e6275e4792f5 div.sk-label input.sk-toggleable__control:checked~label.sk-toggleable__label {background-color: #d4ebff;}#sk-ee04bf09-a315-4364-ad7c-e6275e4792f5 input.sk-hidden--visually {border: 0;clip: rect(1px 1px 1px 1px);clip: rect(1px, 1px, 1px, 1px);height: 1px;margin: -1px;overflow: hidden;padding: 0;position: absolute;width: 1px;}#sk-ee04bf09-a315-4364-ad7c-e6275e4792f5 div.sk-estimator {font-family: monospace;background-color: #f0f8ff;border: 1px dotted black;border-radius: 0.25em;box-sizing: border-box;margin-bottom: 0.5em;}#sk-ee04bf09-a315-4364-ad7c-e6275e4792f5 div.sk-estimator:hover {background-color: #d4ebff;}#sk-ee04bf09-a315-4364-ad7c-e6275e4792f5 div.sk-parallel-item::after {content: \"\";width: 100%;border-bottom: 1px solid gray;flex-grow: 1;}#sk-ee04bf09-a315-4364-ad7c-e6275e4792f5 div.sk-label:hover label.sk-toggleable__label {background-color: #d4ebff;}#sk-ee04bf09-a315-4364-ad7c-e6275e4792f5 div.sk-serial::before {content: \"\";position: absolute;border-left: 1px solid gray;box-sizing: border-box;top: 2em;bottom: 0;left: 50%;}#sk-ee04bf09-a315-4364-ad7c-e6275e4792f5 div.sk-serial {display: flex;flex-direction: column;align-items: center;background-color: white;padding-right: 0.2em;padding-left: 0.2em;}#sk-ee04bf09-a315-4364-ad7c-e6275e4792f5 div.sk-item {z-index: 1;}#sk-ee04bf09-a315-4364-ad7c-e6275e4792f5 div.sk-parallel {display: flex;align-items: stretch;justify-content: center;background-color: white;}#sk-ee04bf09-a315-4364-ad7c-e6275e4792f5 div.sk-parallel::before {content: \"\";position: absolute;border-left: 1px solid gray;box-sizing: border-box;top: 2em;bottom: 0;left: 50%;}#sk-ee04bf09-a315-4364-ad7c-e6275e4792f5 div.sk-parallel-item {display: flex;flex-direction: column;position: relative;background-color: white;}#sk-ee04bf09-a315-4364-ad7c-e6275e4792f5 div.sk-parallel-item:first-child::after {align-self: flex-end;width: 50%;}#sk-ee04bf09-a315-4364-ad7c-e6275e4792f5 div.sk-parallel-item:last-child::after {align-self: flex-start;width: 50%;}#sk-ee04bf09-a315-4364-ad7c-e6275e4792f5 div.sk-parallel-item:only-child::after {width: 0;}#sk-ee04bf09-a315-4364-ad7c-e6275e4792f5 div.sk-dashed-wrapped {border: 1px dashed gray;margin: 0 0.4em 0.5em 0.4em;box-sizing: border-box;padding-bottom: 0.4em;background-color: white;position: relative;}#sk-ee04bf09-a315-4364-ad7c-e6275e4792f5 div.sk-label label {font-family: monospace;font-weight: bold;background-color: white;display: inline-block;line-height: 1.2em;}#sk-ee04bf09-a315-4364-ad7c-e6275e4792f5 div.sk-label-container {position: relative;z-index: 2;text-align: center;}#sk-ee04bf09-a315-4364-ad7c-e6275e4792f5 div.sk-container {/* jupyter's `normalize.less` sets `[hidden] { display: none; }` but bootstrap.min.css set `[hidden] { display: none !important; }` so we also need the `!important` here to be able to override the default hidden behavior on the sphinx rendered scikit-learn.org. See: https://github.com/scikit-learn/scikit-learn/issues/21755 */display: inline-block !important;position: relative;}#sk-ee04bf09-a315-4364-ad7c-e6275e4792f5 div.sk-text-repr-fallback {display: none;}</style><div id=\"sk-ee04bf09-a315-4364-ad7c-e6275e4792f5\" class=\"sk-top-container\"><div class=\"sk-text-repr-fallback\"><pre>ColumnTransformer(transformers=[(&#x27;pipeline-1&#x27;,\n",
       "                                 Pipeline(steps=[(&#x27;simpleimputer&#x27;,\n",
       "                                                  SimpleImputer()),\n",
       "                                                 (&#x27;standardscaler&#x27;,\n",
       "                                                  StandardScaler())]),\n",
       "                                 &lt;sklearn.compose._column_transformer.make_column_selector object at 0x7f4bd146b510&gt;),\n",
       "                                (&#x27;pipeline-2&#x27;,\n",
       "                                 Pipeline(steps=[(&#x27;simpleimputer&#x27;,\n",
       "                                                  SimpleImputer(strategy=&#x27;most_frequent&#x27;)),\n",
       "                                                 (&#x27;onehotencoder&#x27;,\n",
       "                                                  OneHotEncoder(handle_unknown=&#x27;ignore&#x27;,\n",
       "                                                                sparse=False))]),\n",
       "                                 &lt;sklearn.compose._column_transformer.make_column_selector object at 0x7f4bd146b550&gt;)])</pre><b>Please rerun this cell to show the HTML repr or trust the notebook.</b></div><div class=\"sk-container\" hidden><div class=\"sk-item sk-dashed-wrapped\"><div class=\"sk-label-container\"><div class=\"sk-label sk-toggleable\"><input class=\"sk-toggleable__control sk-hidden--visually\" id=\"145061b9-5f78-4254-bea1-53e96103efc4\" type=\"checkbox\" ><label for=\"145061b9-5f78-4254-bea1-53e96103efc4\" class=\"sk-toggleable__label sk-toggleable__label-arrow\">ColumnTransformer</label><div class=\"sk-toggleable__content\"><pre>ColumnTransformer(transformers=[(&#x27;pipeline-1&#x27;,\n",
       "                                 Pipeline(steps=[(&#x27;simpleimputer&#x27;,\n",
       "                                                  SimpleImputer()),\n",
       "                                                 (&#x27;standardscaler&#x27;,\n",
       "                                                  StandardScaler())]),\n",
       "                                 &lt;sklearn.compose._column_transformer.make_column_selector object at 0x7f4bd146b510&gt;),\n",
       "                                (&#x27;pipeline-2&#x27;,\n",
       "                                 Pipeline(steps=[(&#x27;simpleimputer&#x27;,\n",
       "                                                  SimpleImputer(strategy=&#x27;most_frequent&#x27;)),\n",
       "                                                 (&#x27;onehotencoder&#x27;,\n",
       "                                                  OneHotEncoder(handle_unknown=&#x27;ignore&#x27;,\n",
       "                                                                sparse=False))]),\n",
       "                                 &lt;sklearn.compose._column_transformer.make_column_selector object at 0x7f4bd146b550&gt;)])</pre></div></div></div><div class=\"sk-parallel\"><div class=\"sk-parallel-item\"><div class=\"sk-item\"><div class=\"sk-label-container\"><div class=\"sk-label sk-toggleable\"><input class=\"sk-toggleable__control sk-hidden--visually\" id=\"67b64765-7d43-48ed-bcbc-e7ec9e80e9f2\" type=\"checkbox\" ><label for=\"67b64765-7d43-48ed-bcbc-e7ec9e80e9f2\" class=\"sk-toggleable__label sk-toggleable__label-arrow\">pipeline-1</label><div class=\"sk-toggleable__content\"><pre>&lt;sklearn.compose._column_transformer.make_column_selector object at 0x7f4bd146b510&gt;</pre></div></div></div><div class=\"sk-serial\"><div class=\"sk-item\"><div class=\"sk-serial\"><div class=\"sk-item\"><div class=\"sk-estimator sk-toggleable\"><input class=\"sk-toggleable__control sk-hidden--visually\" id=\"11abe76d-5c53-4e23-b163-e2a3506f4a44\" type=\"checkbox\" ><label for=\"11abe76d-5c53-4e23-b163-e2a3506f4a44\" class=\"sk-toggleable__label sk-toggleable__label-arrow\">SimpleImputer</label><div class=\"sk-toggleable__content\"><pre>SimpleImputer()</pre></div></div></div><div class=\"sk-item\"><div class=\"sk-estimator sk-toggleable\"><input class=\"sk-toggleable__control sk-hidden--visually\" id=\"80a5e258-6939-4fec-8f07-15458399ea8f\" type=\"checkbox\" ><label for=\"80a5e258-6939-4fec-8f07-15458399ea8f\" class=\"sk-toggleable__label sk-toggleable__label-arrow\">StandardScaler</label><div class=\"sk-toggleable__content\"><pre>StandardScaler()</pre></div></div></div></div></div></div></div></div><div class=\"sk-parallel-item\"><div class=\"sk-item\"><div class=\"sk-label-container\"><div class=\"sk-label sk-toggleable\"><input class=\"sk-toggleable__control sk-hidden--visually\" id=\"a836b275-e3f4-4e75-9c12-acf169772a3c\" type=\"checkbox\" ><label for=\"a836b275-e3f4-4e75-9c12-acf169772a3c\" class=\"sk-toggleable__label sk-toggleable__label-arrow\">pipeline-2</label><div class=\"sk-toggleable__content\"><pre>&lt;sklearn.compose._column_transformer.make_column_selector object at 0x7f4bd146b550&gt;</pre></div></div></div><div class=\"sk-serial\"><div class=\"sk-item\"><div class=\"sk-serial\"><div class=\"sk-item\"><div class=\"sk-estimator sk-toggleable\"><input class=\"sk-toggleable__control sk-hidden--visually\" id=\"9360aabf-4923-4115-8199-a39281153935\" type=\"checkbox\" ><label for=\"9360aabf-4923-4115-8199-a39281153935\" class=\"sk-toggleable__label sk-toggleable__label-arrow\">SimpleImputer</label><div class=\"sk-toggleable__content\"><pre>SimpleImputer(strategy=&#x27;most_frequent&#x27;)</pre></div></div></div><div class=\"sk-item\"><div class=\"sk-estimator sk-toggleable\"><input class=\"sk-toggleable__control sk-hidden--visually\" id=\"8614c0e8-89e5-4a90-8f7e-bf10ad067311\" type=\"checkbox\" ><label for=\"8614c0e8-89e5-4a90-8f7e-bf10ad067311\" class=\"sk-toggleable__label sk-toggleable__label-arrow\">OneHotEncoder</label><div class=\"sk-toggleable__content\"><pre>OneHotEncoder(handle_unknown=&#x27;ignore&#x27;, sparse=False)</pre></div></div></div></div></div></div></div></div></div></div></div></div>"
      ],
      "text/plain": [
       "ColumnTransformer(transformers=[('pipeline-1',\n",
       "                                 Pipeline(steps=[('simpleimputer',\n",
       "                                                  SimpleImputer()),\n",
       "                                                 ('standardscaler',\n",
       "                                                  StandardScaler())]),\n",
       "                                 <sklearn.compose._column_transformer.make_column_selector object at 0x7f4bd146b510>),\n",
       "                                ('pipeline-2',\n",
       "                                 Pipeline(steps=[('simpleimputer',\n",
       "                                                  SimpleImputer(strategy='most_frequent')),\n",
       "                                                 ('onehotencoder',\n",
       "                                                  OneHotEncoder(handle_unknown='ignore',\n",
       "                                                                sparse=False))]),\n",
       "                                 <sklearn.compose._column_transformer.make_column_selector object at 0x7f4bd146b550>)])"
      ]
     },
     "execution_count": 37,
     "metadata": {},
     "output_type": "execute_result"
    }
   ],
   "source": [
    "# 8. Instantiate ColumnTransformer\n",
    "# Tuples for Column Transformer\n",
    "num_tuple = (num_pipe, num_selector)\n",
    "cat_tuple = (cat_pipe, cat_selector)\n",
    "# ColumnTransformer\n",
    "preprocessor = make_column_transformer(num_tuple, cat_tuple)\n",
    "preprocessor"
   ]
  },
  {
   "cell_type": "code",
   "execution_count": 38,
   "metadata": {
    "colab": {
     "base_uri": "https://localhost:8080/",
     "height": 152
    },
    "id": "MxYQXLADOP6M",
    "outputId": "fbffd605-36e9-4217-cfd7-60715e016b19"
   },
   "outputs": [
    {
     "data": {
      "text/html": [
       "<style>#sk-86dc8b38-3fa0-466d-9b1c-6de3be0fe2b3 {color: black;background-color: white;}#sk-86dc8b38-3fa0-466d-9b1c-6de3be0fe2b3 pre{padding: 0;}#sk-86dc8b38-3fa0-466d-9b1c-6de3be0fe2b3 div.sk-toggleable {background-color: white;}#sk-86dc8b38-3fa0-466d-9b1c-6de3be0fe2b3 label.sk-toggleable__label {cursor: pointer;display: block;width: 100%;margin-bottom: 0;padding: 0.3em;box-sizing: border-box;text-align: center;}#sk-86dc8b38-3fa0-466d-9b1c-6de3be0fe2b3 label.sk-toggleable__label-arrow:before {content: \"▸\";float: left;margin-right: 0.25em;color: #696969;}#sk-86dc8b38-3fa0-466d-9b1c-6de3be0fe2b3 label.sk-toggleable__label-arrow:hover:before {color: black;}#sk-86dc8b38-3fa0-466d-9b1c-6de3be0fe2b3 div.sk-estimator:hover label.sk-toggleable__label-arrow:before {color: black;}#sk-86dc8b38-3fa0-466d-9b1c-6de3be0fe2b3 div.sk-toggleable__content {max-height: 0;max-width: 0;overflow: hidden;text-align: left;background-color: #f0f8ff;}#sk-86dc8b38-3fa0-466d-9b1c-6de3be0fe2b3 div.sk-toggleable__content pre {margin: 0.2em;color: black;border-radius: 0.25em;background-color: #f0f8ff;}#sk-86dc8b38-3fa0-466d-9b1c-6de3be0fe2b3 input.sk-toggleable__control:checked~div.sk-toggleable__content {max-height: 200px;max-width: 100%;overflow: auto;}#sk-86dc8b38-3fa0-466d-9b1c-6de3be0fe2b3 input.sk-toggleable__control:checked~label.sk-toggleable__label-arrow:before {content: \"▾\";}#sk-86dc8b38-3fa0-466d-9b1c-6de3be0fe2b3 div.sk-estimator input.sk-toggleable__control:checked~label.sk-toggleable__label {background-color: #d4ebff;}#sk-86dc8b38-3fa0-466d-9b1c-6de3be0fe2b3 div.sk-label input.sk-toggleable__control:checked~label.sk-toggleable__label {background-color: #d4ebff;}#sk-86dc8b38-3fa0-466d-9b1c-6de3be0fe2b3 input.sk-hidden--visually {border: 0;clip: rect(1px 1px 1px 1px);clip: rect(1px, 1px, 1px, 1px);height: 1px;margin: -1px;overflow: hidden;padding: 0;position: absolute;width: 1px;}#sk-86dc8b38-3fa0-466d-9b1c-6de3be0fe2b3 div.sk-estimator {font-family: monospace;background-color: #f0f8ff;border: 1px dotted black;border-radius: 0.25em;box-sizing: border-box;margin-bottom: 0.5em;}#sk-86dc8b38-3fa0-466d-9b1c-6de3be0fe2b3 div.sk-estimator:hover {background-color: #d4ebff;}#sk-86dc8b38-3fa0-466d-9b1c-6de3be0fe2b3 div.sk-parallel-item::after {content: \"\";width: 100%;border-bottom: 1px solid gray;flex-grow: 1;}#sk-86dc8b38-3fa0-466d-9b1c-6de3be0fe2b3 div.sk-label:hover label.sk-toggleable__label {background-color: #d4ebff;}#sk-86dc8b38-3fa0-466d-9b1c-6de3be0fe2b3 div.sk-serial::before {content: \"\";position: absolute;border-left: 1px solid gray;box-sizing: border-box;top: 2em;bottom: 0;left: 50%;}#sk-86dc8b38-3fa0-466d-9b1c-6de3be0fe2b3 div.sk-serial {display: flex;flex-direction: column;align-items: center;background-color: white;padding-right: 0.2em;padding-left: 0.2em;}#sk-86dc8b38-3fa0-466d-9b1c-6de3be0fe2b3 div.sk-item {z-index: 1;}#sk-86dc8b38-3fa0-466d-9b1c-6de3be0fe2b3 div.sk-parallel {display: flex;align-items: stretch;justify-content: center;background-color: white;}#sk-86dc8b38-3fa0-466d-9b1c-6de3be0fe2b3 div.sk-parallel::before {content: \"\";position: absolute;border-left: 1px solid gray;box-sizing: border-box;top: 2em;bottom: 0;left: 50%;}#sk-86dc8b38-3fa0-466d-9b1c-6de3be0fe2b3 div.sk-parallel-item {display: flex;flex-direction: column;position: relative;background-color: white;}#sk-86dc8b38-3fa0-466d-9b1c-6de3be0fe2b3 div.sk-parallel-item:first-child::after {align-self: flex-end;width: 50%;}#sk-86dc8b38-3fa0-466d-9b1c-6de3be0fe2b3 div.sk-parallel-item:last-child::after {align-self: flex-start;width: 50%;}#sk-86dc8b38-3fa0-466d-9b1c-6de3be0fe2b3 div.sk-parallel-item:only-child::after {width: 0;}#sk-86dc8b38-3fa0-466d-9b1c-6de3be0fe2b3 div.sk-dashed-wrapped {border: 1px dashed gray;margin: 0 0.4em 0.5em 0.4em;box-sizing: border-box;padding-bottom: 0.4em;background-color: white;position: relative;}#sk-86dc8b38-3fa0-466d-9b1c-6de3be0fe2b3 div.sk-label label {font-family: monospace;font-weight: bold;background-color: white;display: inline-block;line-height: 1.2em;}#sk-86dc8b38-3fa0-466d-9b1c-6de3be0fe2b3 div.sk-label-container {position: relative;z-index: 2;text-align: center;}#sk-86dc8b38-3fa0-466d-9b1c-6de3be0fe2b3 div.sk-container {/* jupyter's `normalize.less` sets `[hidden] { display: none; }` but bootstrap.min.css set `[hidden] { display: none !important; }` so we also need the `!important` here to be able to override the default hidden behavior on the sphinx rendered scikit-learn.org. See: https://github.com/scikit-learn/scikit-learn/issues/21755 */display: inline-block !important;position: relative;}#sk-86dc8b38-3fa0-466d-9b1c-6de3be0fe2b3 div.sk-text-repr-fallback {display: none;}</style><div id=\"sk-86dc8b38-3fa0-466d-9b1c-6de3be0fe2b3\" class=\"sk-top-container\"><div class=\"sk-text-repr-fallback\"><pre>ColumnTransformer(transformers=[(&#x27;pipeline-1&#x27;,\n",
       "                                 Pipeline(steps=[(&#x27;simpleimputer&#x27;,\n",
       "                                                  SimpleImputer()),\n",
       "                                                 (&#x27;standardscaler&#x27;,\n",
       "                                                  StandardScaler())]),\n",
       "                                 &lt;sklearn.compose._column_transformer.make_column_selector object at 0x7f4bd146b510&gt;),\n",
       "                                (&#x27;pipeline-2&#x27;,\n",
       "                                 Pipeline(steps=[(&#x27;simpleimputer&#x27;,\n",
       "                                                  SimpleImputer(strategy=&#x27;most_frequent&#x27;)),\n",
       "                                                 (&#x27;onehotencoder&#x27;,\n",
       "                                                  OneHotEncoder(handle_unknown=&#x27;ignore&#x27;,\n",
       "                                                                sparse=False))]),\n",
       "                                 &lt;sklearn.compose._column_transformer.make_column_selector object at 0x7f4bd146b550&gt;)])</pre><b>Please rerun this cell to show the HTML repr or trust the notebook.</b></div><div class=\"sk-container\" hidden><div class=\"sk-item sk-dashed-wrapped\"><div class=\"sk-label-container\"><div class=\"sk-label sk-toggleable\"><input class=\"sk-toggleable__control sk-hidden--visually\" id=\"79ee285f-9d4d-489e-9314-70fd66ce433d\" type=\"checkbox\" ><label for=\"79ee285f-9d4d-489e-9314-70fd66ce433d\" class=\"sk-toggleable__label sk-toggleable__label-arrow\">ColumnTransformer</label><div class=\"sk-toggleable__content\"><pre>ColumnTransformer(transformers=[(&#x27;pipeline-1&#x27;,\n",
       "                                 Pipeline(steps=[(&#x27;simpleimputer&#x27;,\n",
       "                                                  SimpleImputer()),\n",
       "                                                 (&#x27;standardscaler&#x27;,\n",
       "                                                  StandardScaler())]),\n",
       "                                 &lt;sklearn.compose._column_transformer.make_column_selector object at 0x7f4bd146b510&gt;),\n",
       "                                (&#x27;pipeline-2&#x27;,\n",
       "                                 Pipeline(steps=[(&#x27;simpleimputer&#x27;,\n",
       "                                                  SimpleImputer(strategy=&#x27;most_frequent&#x27;)),\n",
       "                                                 (&#x27;onehotencoder&#x27;,\n",
       "                                                  OneHotEncoder(handle_unknown=&#x27;ignore&#x27;,\n",
       "                                                                sparse=False))]),\n",
       "                                 &lt;sklearn.compose._column_transformer.make_column_selector object at 0x7f4bd146b550&gt;)])</pre></div></div></div><div class=\"sk-parallel\"><div class=\"sk-parallel-item\"><div class=\"sk-item\"><div class=\"sk-label-container\"><div class=\"sk-label sk-toggleable\"><input class=\"sk-toggleable__control sk-hidden--visually\" id=\"5043ea5a-d071-4d7d-89e4-0e8a900b56a6\" type=\"checkbox\" ><label for=\"5043ea5a-d071-4d7d-89e4-0e8a900b56a6\" class=\"sk-toggleable__label sk-toggleable__label-arrow\">pipeline-1</label><div class=\"sk-toggleable__content\"><pre>&lt;sklearn.compose._column_transformer.make_column_selector object at 0x7f4bd146b510&gt;</pre></div></div></div><div class=\"sk-serial\"><div class=\"sk-item\"><div class=\"sk-serial\"><div class=\"sk-item\"><div class=\"sk-estimator sk-toggleable\"><input class=\"sk-toggleable__control sk-hidden--visually\" id=\"26caa1d9-ef0e-4c4b-a4b2-2d0e60a03fe2\" type=\"checkbox\" ><label for=\"26caa1d9-ef0e-4c4b-a4b2-2d0e60a03fe2\" class=\"sk-toggleable__label sk-toggleable__label-arrow\">SimpleImputer</label><div class=\"sk-toggleable__content\"><pre>SimpleImputer()</pre></div></div></div><div class=\"sk-item\"><div class=\"sk-estimator sk-toggleable\"><input class=\"sk-toggleable__control sk-hidden--visually\" id=\"97dc7dcb-6c83-4d73-9980-869860395e8c\" type=\"checkbox\" ><label for=\"97dc7dcb-6c83-4d73-9980-869860395e8c\" class=\"sk-toggleable__label sk-toggleable__label-arrow\">StandardScaler</label><div class=\"sk-toggleable__content\"><pre>StandardScaler()</pre></div></div></div></div></div></div></div></div><div class=\"sk-parallel-item\"><div class=\"sk-item\"><div class=\"sk-label-container\"><div class=\"sk-label sk-toggleable\"><input class=\"sk-toggleable__control sk-hidden--visually\" id=\"78b359d3-fadf-4ac0-800b-41b4a9b75a08\" type=\"checkbox\" ><label for=\"78b359d3-fadf-4ac0-800b-41b4a9b75a08\" class=\"sk-toggleable__label sk-toggleable__label-arrow\">pipeline-2</label><div class=\"sk-toggleable__content\"><pre>&lt;sklearn.compose._column_transformer.make_column_selector object at 0x7f4bd146b550&gt;</pre></div></div></div><div class=\"sk-serial\"><div class=\"sk-item\"><div class=\"sk-serial\"><div class=\"sk-item\"><div class=\"sk-estimator sk-toggleable\"><input class=\"sk-toggleable__control sk-hidden--visually\" id=\"cad702f1-1553-4e70-adb3-aebce6056050\" type=\"checkbox\" ><label for=\"cad702f1-1553-4e70-adb3-aebce6056050\" class=\"sk-toggleable__label sk-toggleable__label-arrow\">SimpleImputer</label><div class=\"sk-toggleable__content\"><pre>SimpleImputer(strategy=&#x27;most_frequent&#x27;)</pre></div></div></div><div class=\"sk-item\"><div class=\"sk-estimator sk-toggleable\"><input class=\"sk-toggleable__control sk-hidden--visually\" id=\"33fa38f8-00f8-4fb0-8a4d-e4f3543c2fbe\" type=\"checkbox\" ><label for=\"33fa38f8-00f8-4fb0-8a4d-e4f3543c2fbe\" class=\"sk-toggleable__label sk-toggleable__label-arrow\">OneHotEncoder</label><div class=\"sk-toggleable__content\"><pre>OneHotEncoder(handle_unknown=&#x27;ignore&#x27;, sparse=False)</pre></div></div></div></div></div></div></div></div></div></div></div></div>"
      ],
      "text/plain": [
       "ColumnTransformer(transformers=[('pipeline-1',\n",
       "                                 Pipeline(steps=[('simpleimputer',\n",
       "                                                  SimpleImputer()),\n",
       "                                                 ('standardscaler',\n",
       "                                                  StandardScaler())]),\n",
       "                                 <sklearn.compose._column_transformer.make_column_selector object at 0x7f4bd146b510>),\n",
       "                                ('pipeline-2',\n",
       "                                 Pipeline(steps=[('simpleimputer',\n",
       "                                                  SimpleImputer(strategy='most_frequent')),\n",
       "                                                 ('onehotencoder',\n",
       "                                                  OneHotEncoder(handle_unknown='ignore',\n",
       "                                                                sparse=False))]),\n",
       "                                 <sklearn.compose._column_transformer.make_column_selector object at 0x7f4bd146b550>)])"
      ]
     },
     "execution_count": 38,
     "metadata": {},
     "output_type": "execute_result"
    }
   ],
   "source": [
    "# 9. Transform data\n",
    "preprocessor.fit(X_train)"
   ]
  },
  {
   "cell_type": "code",
   "execution_count": 39,
   "metadata": {
    "id": "tIIE1YhfOcx_"
   },
   "outputs": [],
   "source": [
    "# transform training and testing data \n",
    "X_train_processed = preprocessor.transform(X_train)\n",
    "X_test_processed = preprocessor.transform(X_test)"
   ]
  },
  {
   "cell_type": "code",
   "execution_count": 40,
   "metadata": {
    "colab": {
     "base_uri": "https://localhost:8080/"
    },
    "id": "pYKqprwcOfuA",
    "outputId": "f13f3ee6-0ec5-4565-a29a-a5e731b15469"
   },
   "outputs": [
    {
     "name": "stdout",
     "output_type": "stream",
     "text": [
      "0 missing values in training data\n",
      "0 missing values in testing data\n",
      "\n",
      "\n",
      "All data in X_train_processed are float64\n",
      "All data in X_test_processed are float64\n",
      "\n",
      "\n",
      "shape of data is (6390, 10)\n",
      "\n",
      "\n"
     ]
    },
    {
     "data": {
      "text/plain": [
       "array([[ 1.56979812,  0.23373754,  0.        , ...,  0.        ,\n",
       "         1.        ,  0.        ],\n",
       "       [ 0.64539404, -0.22750201,  0.        , ...,  0.        ,\n",
       "         1.        ,  0.        ],\n",
       "       [-1.91330905, -0.28555689,  0.        , ...,  0.        ,\n",
       "         1.        ,  0.        ],\n",
       "       ...,\n",
       "       [ 0.        ,  1.95227397,  0.        , ...,  0.        ,\n",
       "         0.        ,  1.        ],\n",
       "       [ 1.77127081, -0.38192255,  0.        , ...,  0.        ,\n",
       "         1.        ,  0.        ],\n",
       "       [-0.00642935,  0.25344004,  0.        , ...,  0.        ,\n",
       "         1.        ,  0.        ]])"
      ]
     },
     "execution_count": 40,
     "metadata": {},
     "output_type": "execute_result"
    }
   ],
   "source": [
    "# 10. Inspect result\n",
    "print(np.isnan(X_train_processed).sum().sum(), 'missing values in training data')\n",
    "print(np.isnan(X_test_processed).sum().sum(), 'missing values in testing data')\n",
    "print('\\n')\n",
    "print('All data in X_train_processed are', X_train_processed.dtype)\n",
    "print('All data in X_test_processed are', X_test_processed.dtype)\n",
    "print('\\n')\n",
    "print('shape of data is', X_train_processed.shape)\n",
    "print('\\n')\n",
    "X_train_processed"
   ]
  },
  {
   "cell_type": "markdown",
   "metadata": {
    "id": "CtDxA3zuyqQJ"
   },
   "source": [
    "## Building regression models\n"
   ]
  },
  {
   "cell_type": "markdown",
   "metadata": {
    "id": "IOq17YrxSjc0"
   },
   "source": [
    "### Linear regression model:"
   ]
  },
  {
   "cell_type": "code",
   "execution_count": 41,
   "metadata": {
    "id": "97iHkWFmydx4"
   },
   "outputs": [],
   "source": [
    "# train/test split data\n",
    "X_train, X_test, y_train, y_test = train_test_split(X, y, random_state=42)"
   ]
  },
  {
   "cell_type": "code",
   "execution_count": 42,
   "metadata": {
    "id": "OGB1CtP--Moj"
   },
   "outputs": [],
   "source": [
    "# import and instantiate linear regression model \n",
    "from sklearn.linear_model import LinearRegression\n",
    "from sklearn.metrics import r2_score, mean_squared_error, mean_absolute_error\n",
    "reg = LinearRegression()"
   ]
  },
  {
   "cell_type": "code",
   "execution_count": 43,
   "metadata": {
    "id": "EuMC58Fs-kbd"
   },
   "outputs": [],
   "source": [
    "# create a modeling pipline\n",
    "from sklearn.pipeline import make_pipeline\n",
    "reg_pipe = make_pipeline(preprocessor, reg)"
   ]
  },
  {
   "cell_type": "code",
   "execution_count": 44,
   "metadata": {
    "colab": {
     "base_uri": "https://localhost:8080/",
     "height": 227
    },
    "id": "XQTVskCQ-nGn",
    "outputId": "5e284098-6e6b-4949-cfb5-22eb2dd7cb46"
   },
   "outputs": [
    {
     "data": {
      "text/html": [
       "<style>#sk-920bcbd0-2d21-4c6d-bb14-3ffa54c10207 {color: black;background-color: white;}#sk-920bcbd0-2d21-4c6d-bb14-3ffa54c10207 pre{padding: 0;}#sk-920bcbd0-2d21-4c6d-bb14-3ffa54c10207 div.sk-toggleable {background-color: white;}#sk-920bcbd0-2d21-4c6d-bb14-3ffa54c10207 label.sk-toggleable__label {cursor: pointer;display: block;width: 100%;margin-bottom: 0;padding: 0.3em;box-sizing: border-box;text-align: center;}#sk-920bcbd0-2d21-4c6d-bb14-3ffa54c10207 label.sk-toggleable__label-arrow:before {content: \"▸\";float: left;margin-right: 0.25em;color: #696969;}#sk-920bcbd0-2d21-4c6d-bb14-3ffa54c10207 label.sk-toggleable__label-arrow:hover:before {color: black;}#sk-920bcbd0-2d21-4c6d-bb14-3ffa54c10207 div.sk-estimator:hover label.sk-toggleable__label-arrow:before {color: black;}#sk-920bcbd0-2d21-4c6d-bb14-3ffa54c10207 div.sk-toggleable__content {max-height: 0;max-width: 0;overflow: hidden;text-align: left;background-color: #f0f8ff;}#sk-920bcbd0-2d21-4c6d-bb14-3ffa54c10207 div.sk-toggleable__content pre {margin: 0.2em;color: black;border-radius: 0.25em;background-color: #f0f8ff;}#sk-920bcbd0-2d21-4c6d-bb14-3ffa54c10207 input.sk-toggleable__control:checked~div.sk-toggleable__content {max-height: 200px;max-width: 100%;overflow: auto;}#sk-920bcbd0-2d21-4c6d-bb14-3ffa54c10207 input.sk-toggleable__control:checked~label.sk-toggleable__label-arrow:before {content: \"▾\";}#sk-920bcbd0-2d21-4c6d-bb14-3ffa54c10207 div.sk-estimator input.sk-toggleable__control:checked~label.sk-toggleable__label {background-color: #d4ebff;}#sk-920bcbd0-2d21-4c6d-bb14-3ffa54c10207 div.sk-label input.sk-toggleable__control:checked~label.sk-toggleable__label {background-color: #d4ebff;}#sk-920bcbd0-2d21-4c6d-bb14-3ffa54c10207 input.sk-hidden--visually {border: 0;clip: rect(1px 1px 1px 1px);clip: rect(1px, 1px, 1px, 1px);height: 1px;margin: -1px;overflow: hidden;padding: 0;position: absolute;width: 1px;}#sk-920bcbd0-2d21-4c6d-bb14-3ffa54c10207 div.sk-estimator {font-family: monospace;background-color: #f0f8ff;border: 1px dotted black;border-radius: 0.25em;box-sizing: border-box;margin-bottom: 0.5em;}#sk-920bcbd0-2d21-4c6d-bb14-3ffa54c10207 div.sk-estimator:hover {background-color: #d4ebff;}#sk-920bcbd0-2d21-4c6d-bb14-3ffa54c10207 div.sk-parallel-item::after {content: \"\";width: 100%;border-bottom: 1px solid gray;flex-grow: 1;}#sk-920bcbd0-2d21-4c6d-bb14-3ffa54c10207 div.sk-label:hover label.sk-toggleable__label {background-color: #d4ebff;}#sk-920bcbd0-2d21-4c6d-bb14-3ffa54c10207 div.sk-serial::before {content: \"\";position: absolute;border-left: 1px solid gray;box-sizing: border-box;top: 2em;bottom: 0;left: 50%;}#sk-920bcbd0-2d21-4c6d-bb14-3ffa54c10207 div.sk-serial {display: flex;flex-direction: column;align-items: center;background-color: white;padding-right: 0.2em;padding-left: 0.2em;}#sk-920bcbd0-2d21-4c6d-bb14-3ffa54c10207 div.sk-item {z-index: 1;}#sk-920bcbd0-2d21-4c6d-bb14-3ffa54c10207 div.sk-parallel {display: flex;align-items: stretch;justify-content: center;background-color: white;}#sk-920bcbd0-2d21-4c6d-bb14-3ffa54c10207 div.sk-parallel::before {content: \"\";position: absolute;border-left: 1px solid gray;box-sizing: border-box;top: 2em;bottom: 0;left: 50%;}#sk-920bcbd0-2d21-4c6d-bb14-3ffa54c10207 div.sk-parallel-item {display: flex;flex-direction: column;position: relative;background-color: white;}#sk-920bcbd0-2d21-4c6d-bb14-3ffa54c10207 div.sk-parallel-item:first-child::after {align-self: flex-end;width: 50%;}#sk-920bcbd0-2d21-4c6d-bb14-3ffa54c10207 div.sk-parallel-item:last-child::after {align-self: flex-start;width: 50%;}#sk-920bcbd0-2d21-4c6d-bb14-3ffa54c10207 div.sk-parallel-item:only-child::after {width: 0;}#sk-920bcbd0-2d21-4c6d-bb14-3ffa54c10207 div.sk-dashed-wrapped {border: 1px dashed gray;margin: 0 0.4em 0.5em 0.4em;box-sizing: border-box;padding-bottom: 0.4em;background-color: white;position: relative;}#sk-920bcbd0-2d21-4c6d-bb14-3ffa54c10207 div.sk-label label {font-family: monospace;font-weight: bold;background-color: white;display: inline-block;line-height: 1.2em;}#sk-920bcbd0-2d21-4c6d-bb14-3ffa54c10207 div.sk-label-container {position: relative;z-index: 2;text-align: center;}#sk-920bcbd0-2d21-4c6d-bb14-3ffa54c10207 div.sk-container {/* jupyter's `normalize.less` sets `[hidden] { display: none; }` but bootstrap.min.css set `[hidden] { display: none !important; }` so we also need the `!important` here to be able to override the default hidden behavior on the sphinx rendered scikit-learn.org. See: https://github.com/scikit-learn/scikit-learn/issues/21755 */display: inline-block !important;position: relative;}#sk-920bcbd0-2d21-4c6d-bb14-3ffa54c10207 div.sk-text-repr-fallback {display: none;}</style><div id=\"sk-920bcbd0-2d21-4c6d-bb14-3ffa54c10207\" class=\"sk-top-container\"><div class=\"sk-text-repr-fallback\"><pre>Pipeline(steps=[(&#x27;columntransformer&#x27;,\n",
       "                 ColumnTransformer(transformers=[(&#x27;pipeline-1&#x27;,\n",
       "                                                  Pipeline(steps=[(&#x27;simpleimputer&#x27;,\n",
       "                                                                   SimpleImputer()),\n",
       "                                                                  (&#x27;standardscaler&#x27;,\n",
       "                                                                   StandardScaler())]),\n",
       "                                                  &lt;sklearn.compose._column_transformer.make_column_selector object at 0x7f4bd146b510&gt;),\n",
       "                                                 (&#x27;pipeline-2&#x27;,\n",
       "                                                  Pipeline(steps=[(&#x27;simpleimputer&#x27;,\n",
       "                                                                   SimpleImputer(strategy=&#x27;most_frequent&#x27;)),\n",
       "                                                                  (&#x27;onehotencoder&#x27;,\n",
       "                                                                   OneHotEncoder(handle_unknown=&#x27;ignore&#x27;,\n",
       "                                                                                 sparse=False))]),\n",
       "                                                  &lt;sklearn.compose._column_transformer.make_column_selector object at 0x7f4bd146b550&gt;)])),\n",
       "                (&#x27;linearregression&#x27;, LinearRegression())])</pre><b>Please rerun this cell to show the HTML repr or trust the notebook.</b></div><div class=\"sk-container\" hidden><div class=\"sk-item sk-dashed-wrapped\"><div class=\"sk-label-container\"><div class=\"sk-label sk-toggleable\"><input class=\"sk-toggleable__control sk-hidden--visually\" id=\"9e382047-8502-43e7-8e6a-4d15c1fb1541\" type=\"checkbox\" ><label for=\"9e382047-8502-43e7-8e6a-4d15c1fb1541\" class=\"sk-toggleable__label sk-toggleable__label-arrow\">Pipeline</label><div class=\"sk-toggleable__content\"><pre>Pipeline(steps=[(&#x27;columntransformer&#x27;,\n",
       "                 ColumnTransformer(transformers=[(&#x27;pipeline-1&#x27;,\n",
       "                                                  Pipeline(steps=[(&#x27;simpleimputer&#x27;,\n",
       "                                                                   SimpleImputer()),\n",
       "                                                                  (&#x27;standardscaler&#x27;,\n",
       "                                                                   StandardScaler())]),\n",
       "                                                  &lt;sklearn.compose._column_transformer.make_column_selector object at 0x7f4bd146b510&gt;),\n",
       "                                                 (&#x27;pipeline-2&#x27;,\n",
       "                                                  Pipeline(steps=[(&#x27;simpleimputer&#x27;,\n",
       "                                                                   SimpleImputer(strategy=&#x27;most_frequent&#x27;)),\n",
       "                                                                  (&#x27;onehotencoder&#x27;,\n",
       "                                                                   OneHotEncoder(handle_unknown=&#x27;ignore&#x27;,\n",
       "                                                                                 sparse=False))]),\n",
       "                                                  &lt;sklearn.compose._column_transformer.make_column_selector object at 0x7f4bd146b550&gt;)])),\n",
       "                (&#x27;linearregression&#x27;, LinearRegression())])</pre></div></div></div><div class=\"sk-serial\"><div class=\"sk-item sk-dashed-wrapped\"><div class=\"sk-label-container\"><div class=\"sk-label sk-toggleable\"><input class=\"sk-toggleable__control sk-hidden--visually\" id=\"63106384-7382-4087-95b8-58385ced89a1\" type=\"checkbox\" ><label for=\"63106384-7382-4087-95b8-58385ced89a1\" class=\"sk-toggleable__label sk-toggleable__label-arrow\">columntransformer: ColumnTransformer</label><div class=\"sk-toggleable__content\"><pre>ColumnTransformer(transformers=[(&#x27;pipeline-1&#x27;,\n",
       "                                 Pipeline(steps=[(&#x27;simpleimputer&#x27;,\n",
       "                                                  SimpleImputer()),\n",
       "                                                 (&#x27;standardscaler&#x27;,\n",
       "                                                  StandardScaler())]),\n",
       "                                 &lt;sklearn.compose._column_transformer.make_column_selector object at 0x7f4bd146b510&gt;),\n",
       "                                (&#x27;pipeline-2&#x27;,\n",
       "                                 Pipeline(steps=[(&#x27;simpleimputer&#x27;,\n",
       "                                                  SimpleImputer(strategy=&#x27;most_frequent&#x27;)),\n",
       "                                                 (&#x27;onehotencoder&#x27;,\n",
       "                                                  OneHotEncoder(handle_unknown=&#x27;ignore&#x27;,\n",
       "                                                                sparse=False))]),\n",
       "                                 &lt;sklearn.compose._column_transformer.make_column_selector object at 0x7f4bd146b550&gt;)])</pre></div></div></div><div class=\"sk-parallel\"><div class=\"sk-parallel-item\"><div class=\"sk-item\"><div class=\"sk-label-container\"><div class=\"sk-label sk-toggleable\"><input class=\"sk-toggleable__control sk-hidden--visually\" id=\"07b3a98f-e5af-4ceb-9cb0-88f8b0447173\" type=\"checkbox\" ><label for=\"07b3a98f-e5af-4ceb-9cb0-88f8b0447173\" class=\"sk-toggleable__label sk-toggleable__label-arrow\">pipeline-1</label><div class=\"sk-toggleable__content\"><pre>&lt;sklearn.compose._column_transformer.make_column_selector object at 0x7f4bd146b510&gt;</pre></div></div></div><div class=\"sk-serial\"><div class=\"sk-item\"><div class=\"sk-serial\"><div class=\"sk-item\"><div class=\"sk-estimator sk-toggleable\"><input class=\"sk-toggleable__control sk-hidden--visually\" id=\"82391f2e-3e18-4b92-ad29-1427d960d8bc\" type=\"checkbox\" ><label for=\"82391f2e-3e18-4b92-ad29-1427d960d8bc\" class=\"sk-toggleable__label sk-toggleable__label-arrow\">SimpleImputer</label><div class=\"sk-toggleable__content\"><pre>SimpleImputer()</pre></div></div></div><div class=\"sk-item\"><div class=\"sk-estimator sk-toggleable\"><input class=\"sk-toggleable__control sk-hidden--visually\" id=\"259af045-9e99-4f13-87b1-e2f05a50dd78\" type=\"checkbox\" ><label for=\"259af045-9e99-4f13-87b1-e2f05a50dd78\" class=\"sk-toggleable__label sk-toggleable__label-arrow\">StandardScaler</label><div class=\"sk-toggleable__content\"><pre>StandardScaler()</pre></div></div></div></div></div></div></div></div><div class=\"sk-parallel-item\"><div class=\"sk-item\"><div class=\"sk-label-container\"><div class=\"sk-label sk-toggleable\"><input class=\"sk-toggleable__control sk-hidden--visually\" id=\"ae5735fe-3b80-4e09-9608-36e83cc703a3\" type=\"checkbox\" ><label for=\"ae5735fe-3b80-4e09-9608-36e83cc703a3\" class=\"sk-toggleable__label sk-toggleable__label-arrow\">pipeline-2</label><div class=\"sk-toggleable__content\"><pre>&lt;sklearn.compose._column_transformer.make_column_selector object at 0x7f4bd146b550&gt;</pre></div></div></div><div class=\"sk-serial\"><div class=\"sk-item\"><div class=\"sk-serial\"><div class=\"sk-item\"><div class=\"sk-estimator sk-toggleable\"><input class=\"sk-toggleable__control sk-hidden--visually\" id=\"0c09016d-67c2-49aa-b412-5fc697f24a56\" type=\"checkbox\" ><label for=\"0c09016d-67c2-49aa-b412-5fc697f24a56\" class=\"sk-toggleable__label sk-toggleable__label-arrow\">SimpleImputer</label><div class=\"sk-toggleable__content\"><pre>SimpleImputer(strategy=&#x27;most_frequent&#x27;)</pre></div></div></div><div class=\"sk-item\"><div class=\"sk-estimator sk-toggleable\"><input class=\"sk-toggleable__control sk-hidden--visually\" id=\"1f82613f-3934-4813-b113-cedd494d0876\" type=\"checkbox\" ><label for=\"1f82613f-3934-4813-b113-cedd494d0876\" class=\"sk-toggleable__label sk-toggleable__label-arrow\">OneHotEncoder</label><div class=\"sk-toggleable__content\"><pre>OneHotEncoder(handle_unknown=&#x27;ignore&#x27;, sparse=False)</pre></div></div></div></div></div></div></div></div></div></div><div class=\"sk-item\"><div class=\"sk-estimator sk-toggleable\"><input class=\"sk-toggleable__control sk-hidden--visually\" id=\"de4a8a68-e27c-4138-888d-70f5417b1a92\" type=\"checkbox\" ><label for=\"de4a8a68-e27c-4138-888d-70f5417b1a92\" class=\"sk-toggleable__label sk-toggleable__label-arrow\">LinearRegression</label><div class=\"sk-toggleable__content\"><pre>LinearRegression()</pre></div></div></div></div></div></div></div>"
      ],
      "text/plain": [
       "Pipeline(steps=[('columntransformer',\n",
       "                 ColumnTransformer(transformers=[('pipeline-1',\n",
       "                                                  Pipeline(steps=[('simpleimputer',\n",
       "                                                                   SimpleImputer()),\n",
       "                                                                  ('standardscaler',\n",
       "                                                                   StandardScaler())]),\n",
       "                                                  <sklearn.compose._column_transformer.make_column_selector object at 0x7f4bd146b510>),\n",
       "                                                 ('pipeline-2',\n",
       "                                                  Pipeline(steps=[('simpleimputer',\n",
       "                                                                   SimpleImputer(strategy='most_frequent')),\n",
       "                                                                  ('onehotencoder',\n",
       "                                                                   OneHotEncoder(handle_unknown='ignore',\n",
       "                                                                                 sparse=False))]),\n",
       "                                                  <sklearn.compose._column_transformer.make_column_selector object at 0x7f4bd146b550>)])),\n",
       "                ('linearregression', LinearRegression())])"
      ]
     },
     "execution_count": 44,
     "metadata": {},
     "output_type": "execute_result"
    }
   ],
   "source": [
    "# train the model on training data \n",
    "reg_pipe.fit(X_train, y_train)"
   ]
  },
  {
   "cell_type": "code",
   "execution_count": 45,
   "metadata": {
    "colab": {
     "base_uri": "https://localhost:8080/"
    },
    "id": "oCW24bQMKWd3",
    "outputId": "eadfca36-c4f5-4ed0-fac6-dd1aca327982"
   },
   "outputs": [
    {
     "data": {
      "text/plain": [
       "array([2491.53198801, 1963.31811152, 1930.43708173, 3784.78042428,\n",
       "       2340.41252055])"
      ]
     },
     "execution_count": 45,
     "metadata": {},
     "output_type": "execute_result"
    }
   ],
   "source": [
    "# make predictions\n",
    "train_pred = reg_pipe.predict(X_train)\n",
    "test_pred = reg_pipe.predict(X_test)\n",
    "train_pred[:5]"
   ]
  },
  {
   "cell_type": "code",
   "execution_count": 46,
   "metadata": {
    "colab": {
     "base_uri": "https://localhost:8080/"
    },
    "id": "sFiExvtXKh9F",
    "outputId": "167ad469-3c4e-4ee3-e8f9-33ad11585dff"
   },
   "outputs": [
    {
     "name": "stdout",
     "output_type": "stream",
     "text": [
      "Model Training MSE: 1956333.0512103313\n",
      "Model Testing MSE: 1872550.14846099\n"
     ]
    }
   ],
   "source": [
    "# calculate regression metrics\n",
    "# MSE \n",
    "train_MSE = mean_squared_error(y_train, train_pred)\n",
    "test_MSE = mean_squared_error(y_test, test_pred)\n",
    "\n",
    "print(f'Model Training MSE: {train_MSE}')\n",
    "print(f'Model Testing MSE: {test_MSE}')"
   ]
  },
  {
   "cell_type": "code",
   "execution_count": 47,
   "metadata": {
    "colab": {
     "base_uri": "https://localhost:8080/"
    },
    "id": "bxBWFVdANZi7",
    "outputId": "18084311-ad3f-4798-a335-eedcddc5095d"
   },
   "outputs": [
    {
     "name": "stdout",
     "output_type": "stream",
     "text": [
      "Model Training RMSE: 1398.6897623169805\n",
      "Model Testing RMSE: 1368.4115420665635\n"
     ]
    }
   ],
   "source": [
    "# RMSE \n",
    "train_RMSE = np.sqrt(train_MSE)\n",
    "test_RMSE = np.sqrt(test_MSE)\n",
    "print(f'Model Training RMSE: {train_RMSE}')\n",
    "print(f'Model Testing RMSE: {test_RMSE}')"
   ]
  },
  {
   "cell_type": "markdown",
   "metadata": {
    "id": "MvckSRaESoib"
   },
   "source": [
    "This RMSE value is rather high, probably an indication that our model is not working very well."
   ]
  },
  {
   "cell_type": "code",
   "execution_count": 48,
   "metadata": {
    "colab": {
     "base_uri": "https://localhost:8080/"
    },
    "id": "0U_3uKLuNclg",
    "outputId": "e83a1e41-5a0d-4d21-95ab-2e4fb3ae2eaa"
   },
   "outputs": [
    {
     "name": "stdout",
     "output_type": "stream",
     "text": [
      "Model Training R2: 0.3376872141347881\n",
      "Model Testing R2: 0.3277301508820468\n"
     ]
    }
   ],
   "source": [
    "# R2 score \n",
    "train_r2 = r2_score(y_train, train_pred)\n",
    "test_r2 = r2_score(y_test, test_pred)\n",
    "print(f'Model Training R2: {train_r2}')\n",
    "print(f'Model Testing R2: {test_r2}')"
   ]
  },
  {
   "cell_type": "markdown",
   "metadata": {
    "id": "VAzSgDb-Sl2k"
   },
   "source": [
    "Our R2 scores are hovering around 33%, meaning only 33% of the variation in sales can be explained by the model. This value is relatively low, further evidence that this model is not working optimally. "
   ]
  },
  {
   "cell_type": "markdown",
   "metadata": {
    "id": "W9yakqA0S-qZ"
   },
   "source": [
    "### Regression Tree Model\n"
   ]
  },
  {
   "cell_type": "code",
   "execution_count": 49,
   "metadata": {
    "id": "HtQQnM93S-Hv"
   },
   "outputs": [],
   "source": [
    "# Step 1: import model - DecisionTreeRegressor\n",
    "from sklearn.tree import DecisionTreeRegressor"
   ]
  },
  {
   "cell_type": "code",
   "execution_count": 50,
   "metadata": {
    "id": "ToOtjzJkUJCl"
   },
   "outputs": [],
   "source": [
    "# Step 2: make instance of model \n",
    "dec_tree = DecisionTreeRegressor(random_state = 42)"
   ]
  },
  {
   "cell_type": "code",
   "execution_count": 51,
   "metadata": {
    "colab": {
     "base_uri": "https://localhost:8080/",
     "height": 75
    },
    "id": "V6dMhBP7UNnj",
    "outputId": "1ec06db1-9c1b-45d3-9cda-1d7f6b50cec0"
   },
   "outputs": [
    {
     "data": {
      "text/html": [
       "<style>#sk-7d67ae2c-d01b-4f7a-90b0-2500bf2adece {color: black;background-color: white;}#sk-7d67ae2c-d01b-4f7a-90b0-2500bf2adece pre{padding: 0;}#sk-7d67ae2c-d01b-4f7a-90b0-2500bf2adece div.sk-toggleable {background-color: white;}#sk-7d67ae2c-d01b-4f7a-90b0-2500bf2adece label.sk-toggleable__label {cursor: pointer;display: block;width: 100%;margin-bottom: 0;padding: 0.3em;box-sizing: border-box;text-align: center;}#sk-7d67ae2c-d01b-4f7a-90b0-2500bf2adece label.sk-toggleable__label-arrow:before {content: \"▸\";float: left;margin-right: 0.25em;color: #696969;}#sk-7d67ae2c-d01b-4f7a-90b0-2500bf2adece label.sk-toggleable__label-arrow:hover:before {color: black;}#sk-7d67ae2c-d01b-4f7a-90b0-2500bf2adece div.sk-estimator:hover label.sk-toggleable__label-arrow:before {color: black;}#sk-7d67ae2c-d01b-4f7a-90b0-2500bf2adece div.sk-toggleable__content {max-height: 0;max-width: 0;overflow: hidden;text-align: left;background-color: #f0f8ff;}#sk-7d67ae2c-d01b-4f7a-90b0-2500bf2adece div.sk-toggleable__content pre {margin: 0.2em;color: black;border-radius: 0.25em;background-color: #f0f8ff;}#sk-7d67ae2c-d01b-4f7a-90b0-2500bf2adece input.sk-toggleable__control:checked~div.sk-toggleable__content {max-height: 200px;max-width: 100%;overflow: auto;}#sk-7d67ae2c-d01b-4f7a-90b0-2500bf2adece input.sk-toggleable__control:checked~label.sk-toggleable__label-arrow:before {content: \"▾\";}#sk-7d67ae2c-d01b-4f7a-90b0-2500bf2adece div.sk-estimator input.sk-toggleable__control:checked~label.sk-toggleable__label {background-color: #d4ebff;}#sk-7d67ae2c-d01b-4f7a-90b0-2500bf2adece div.sk-label input.sk-toggleable__control:checked~label.sk-toggleable__label {background-color: #d4ebff;}#sk-7d67ae2c-d01b-4f7a-90b0-2500bf2adece input.sk-hidden--visually {border: 0;clip: rect(1px 1px 1px 1px);clip: rect(1px, 1px, 1px, 1px);height: 1px;margin: -1px;overflow: hidden;padding: 0;position: absolute;width: 1px;}#sk-7d67ae2c-d01b-4f7a-90b0-2500bf2adece div.sk-estimator {font-family: monospace;background-color: #f0f8ff;border: 1px dotted black;border-radius: 0.25em;box-sizing: border-box;margin-bottom: 0.5em;}#sk-7d67ae2c-d01b-4f7a-90b0-2500bf2adece div.sk-estimator:hover {background-color: #d4ebff;}#sk-7d67ae2c-d01b-4f7a-90b0-2500bf2adece div.sk-parallel-item::after {content: \"\";width: 100%;border-bottom: 1px solid gray;flex-grow: 1;}#sk-7d67ae2c-d01b-4f7a-90b0-2500bf2adece div.sk-label:hover label.sk-toggleable__label {background-color: #d4ebff;}#sk-7d67ae2c-d01b-4f7a-90b0-2500bf2adece div.sk-serial::before {content: \"\";position: absolute;border-left: 1px solid gray;box-sizing: border-box;top: 2em;bottom: 0;left: 50%;}#sk-7d67ae2c-d01b-4f7a-90b0-2500bf2adece div.sk-serial {display: flex;flex-direction: column;align-items: center;background-color: white;padding-right: 0.2em;padding-left: 0.2em;}#sk-7d67ae2c-d01b-4f7a-90b0-2500bf2adece div.sk-item {z-index: 1;}#sk-7d67ae2c-d01b-4f7a-90b0-2500bf2adece div.sk-parallel {display: flex;align-items: stretch;justify-content: center;background-color: white;}#sk-7d67ae2c-d01b-4f7a-90b0-2500bf2adece div.sk-parallel::before {content: \"\";position: absolute;border-left: 1px solid gray;box-sizing: border-box;top: 2em;bottom: 0;left: 50%;}#sk-7d67ae2c-d01b-4f7a-90b0-2500bf2adece div.sk-parallel-item {display: flex;flex-direction: column;position: relative;background-color: white;}#sk-7d67ae2c-d01b-4f7a-90b0-2500bf2adece div.sk-parallel-item:first-child::after {align-self: flex-end;width: 50%;}#sk-7d67ae2c-d01b-4f7a-90b0-2500bf2adece div.sk-parallel-item:last-child::after {align-self: flex-start;width: 50%;}#sk-7d67ae2c-d01b-4f7a-90b0-2500bf2adece div.sk-parallel-item:only-child::after {width: 0;}#sk-7d67ae2c-d01b-4f7a-90b0-2500bf2adece div.sk-dashed-wrapped {border: 1px dashed gray;margin: 0 0.4em 0.5em 0.4em;box-sizing: border-box;padding-bottom: 0.4em;background-color: white;position: relative;}#sk-7d67ae2c-d01b-4f7a-90b0-2500bf2adece div.sk-label label {font-family: monospace;font-weight: bold;background-color: white;display: inline-block;line-height: 1.2em;}#sk-7d67ae2c-d01b-4f7a-90b0-2500bf2adece div.sk-label-container {position: relative;z-index: 2;text-align: center;}#sk-7d67ae2c-d01b-4f7a-90b0-2500bf2adece div.sk-container {/* jupyter's `normalize.less` sets `[hidden] { display: none; }` but bootstrap.min.css set `[hidden] { display: none !important; }` so we also need the `!important` here to be able to override the default hidden behavior on the sphinx rendered scikit-learn.org. See: https://github.com/scikit-learn/scikit-learn/issues/21755 */display: inline-block !important;position: relative;}#sk-7d67ae2c-d01b-4f7a-90b0-2500bf2adece div.sk-text-repr-fallback {display: none;}</style><div id=\"sk-7d67ae2c-d01b-4f7a-90b0-2500bf2adece\" class=\"sk-top-container\"><div class=\"sk-text-repr-fallback\"><pre>DecisionTreeRegressor(random_state=42)</pre><b>Please rerun this cell to show the HTML repr or trust the notebook.</b></div><div class=\"sk-container\" hidden><div class=\"sk-item\"><div class=\"sk-estimator sk-toggleable\"><input class=\"sk-toggleable__control sk-hidden--visually\" id=\"e4fcfee3-25ee-4352-aa32-411701d38f4b\" type=\"checkbox\" checked><label for=\"e4fcfee3-25ee-4352-aa32-411701d38f4b\" class=\"sk-toggleable__label sk-toggleable__label-arrow\">DecisionTreeRegressor</label><div class=\"sk-toggleable__content\"><pre>DecisionTreeRegressor(random_state=42)</pre></div></div></div></div></div>"
      ],
      "text/plain": [
       "DecisionTreeRegressor(random_state=42)"
      ]
     },
     "execution_count": 51,
     "metadata": {},
     "output_type": "execute_result"
    }
   ],
   "source": [
    "# Step 3: fit model onto training data\n",
    "dec_tree.fit(X_train_processed, y_train)"
   ]
  },
  {
   "cell_type": "code",
   "execution_count": 52,
   "metadata": {
    "id": "PatUdugdVN9-"
   },
   "outputs": [],
   "source": [
    "# Step 4: predict target values for training data\n",
    "train_pred = dec_tree.predict(X_train_processed)\n",
    "test_pred = dec_tree.predict(X_test_processed)"
   ]
  },
  {
   "cell_type": "code",
   "execution_count": 53,
   "metadata": {
    "colab": {
     "base_uri": "https://localhost:8080/"
    },
    "id": "S0aQB0OoVU_x",
    "outputId": "49f12167-202c-490a-d657-e3d299631cfb"
   },
   "outputs": [
    {
     "name": "stdout",
     "output_type": "stream",
     "text": [
      "0.9936669858124906\n",
      "0.001598599235745235\n"
     ]
    }
   ],
   "source": [
    "# Step 5: evaluate the model using R2 score\n",
    "# evaluate the model\n",
    "train_score = dec_tree.score(X_train_processed, y_train)\n",
    "test_score = dec_tree.score(X_test_processed, y_test)\n",
    "print(train_score)\n",
    "print(test_score)"
   ]
  },
  {
   "cell_type": "code",
   "execution_count": 54,
   "metadata": {
    "colab": {
     "base_uri": "https://localhost:8080/"
    },
    "id": "8TxlbNWVWd17",
    "outputId": "56e65b92-46da-439d-ee42-f0e7936d3600"
   },
   "outputs": [
    {
     "data": {
      "text/plain": [
       "39"
      ]
     },
     "execution_count": 54,
     "metadata": {},
     "output_type": "execute_result"
    }
   ],
   "source": [
    "# Step 6: tune model\n",
    "dec_tree.get_depth()"
   ]
  },
  {
   "cell_type": "code",
   "execution_count": 55,
   "metadata": {
    "colab": {
     "base_uri": "https://localhost:8080/"
    },
    "id": "6YW6Y8xKWiit",
    "outputId": "fbe5d364-a49d-470c-ca7a-498e378d8fec"
   },
   "outputs": [
    {
     "data": {
      "text/plain": [
       "6236"
      ]
     },
     "execution_count": 55,
     "metadata": {},
     "output_type": "execute_result"
    }
   ],
   "source": [
    "# get # of leaf nodes\n",
    "dec_tree.get_n_leaves()"
   ]
  },
  {
   "cell_type": "code",
   "execution_count": 56,
   "metadata": {
    "colab": {
     "base_uri": "https://localhost:8080/"
    },
    "id": "RQVH8vHdWqys",
    "outputId": "d201c98f-d439-4759-e6a2-3e76fd360705"
   },
   "outputs": [
    {
     "name": "stdout",
     "output_type": "stream",
     "text": [
      "0.8295530410844023\n",
      "0.17827741244957285\n"
     ]
    }
   ],
   "source": [
    "# trying depth between 2 and 39 (15)\n",
    "dec_tree_15 = DecisionTreeRegressor(max_depth = 15, random_state = 42)\n",
    "dec_tree_15.fit(X_train_processed, y_train)\n",
    "train_15_score = dec_tree_15.score(X_train_processed, y_train)\n",
    "test_15_score = dec_tree_15.score(X_test_processed, y_test)\n",
    "print(train_15_score)\n",
    "print(test_15_score)"
   ]
  },
  {
   "cell_type": "code",
   "execution_count": 57,
   "metadata": {
    "id": "JRbFJV5iW3yQ"
   },
   "outputs": [],
   "source": [
    "# List of values to try for max_depth:\n",
    "depths = list(range(2, 39)) # will try every value between 2 and 36\n",
    "# Data frame to store the score for each value of max_depth:\n",
    "scores = pd.DataFrame(index=depths, columns=['Test Score','Train Score'])\n",
    "for depth in depths:\n",
    "    dec_tree = DecisionTreeRegressor(max_depth=depth, random_state=42)\n",
    "    dec_tree.fit(X_train_processed, y_train)\n",
    "    train_score = dec_tree.score(X_train_processed, y_train)\n",
    "    test_score = dec_tree.score(X_test_processed, y_test)\n",
    "    scores.loc[depth, 'Train Score'] = train_score\n",
    "    scores.loc[depth, 'Test Score'] = test_score"
   ]
  },
  {
   "cell_type": "code",
   "execution_count": 58,
   "metadata": {
    "colab": {
     "base_uri": "https://localhost:8080/",
     "height": 284
    },
    "id": "mwgC0pBgXAtL",
    "outputId": "16e8e58d-4d55-4adf-93ad-afa7f7a2c92a"
   },
   "outputs": [
    {
     "data": {
      "image/png": "[encoded data removed]",
      "text/plain": [
       "<Figure size 432x288 with 1 Axes>"
      ]
     },
     "metadata": {
      "needs_background": "light"
     },
     "output_type": "display_data"
    }
   ],
   "source": [
    "# Visualize which max_depth leads to the highest r2 score\n",
    "import matplotlib.pyplot as plt\n",
    "plt.plot(depths, scores['Test Score'])\n",
    "plt.xlabel('max_depth')\n",
    "plt.ylabel('R2');"
   ]
  },
  {
   "cell_type": "code",
   "execution_count": 59,
   "metadata": {
    "colab": {
     "base_uri": "https://localhost:8080/",
     "height": 206
    },
    "id": "29devCfwXI6-",
    "outputId": "28784c94-7460-406a-9bf2-1b36ef919261"
   },
   "outputs": [
    {
     "data": {
      "text/html": [
       "\n",
       "  <div id=\"df-6ed6e135-e4f1-4929-9103-5cbccefccb29\">\n",
       "    <div class=\"colab-df-container\">\n",
       "      <div>\n",
       "<style scoped>\n",
       "    .dataframe tbody tr th:only-of-type {\n",
       "        vertical-align: middle;\n",
       "    }\n",
       "\n",
       "    .dataframe tbody tr th {\n",
       "        vertical-align: top;\n",
       "    }\n",
       "\n",
       "    .dataframe thead th {\n",
       "        text-align: right;\n",
       "    }\n",
       "</style>\n",
       "<table border=\"1\" class=\"dataframe\">\n",
       "  <thead>\n",
       "    <tr style=\"text-align: right;\">\n",
       "      <th></th>\n",
       "      <th>Test Score</th>\n",
       "      <th>Train Score</th>\n",
       "    </tr>\n",
       "  </thead>\n",
       "  <tbody>\n",
       "    <tr>\n",
       "      <th>7</th>\n",
       "      <td>0.477229</td>\n",
       "      <td>0.549305</td>\n",
       "    </tr>\n",
       "    <tr>\n",
       "      <th>6</th>\n",
       "      <td>0.474759</td>\n",
       "      <td>0.520067</td>\n",
       "    </tr>\n",
       "    <tr>\n",
       "      <th>8</th>\n",
       "      <td>0.464801</td>\n",
       "      <td>0.575793</td>\n",
       "    </tr>\n",
       "    <tr>\n",
       "      <th>5</th>\n",
       "      <td>0.462024</td>\n",
       "      <td>0.484223</td>\n",
       "    </tr>\n",
       "    <tr>\n",
       "      <th>9</th>\n",
       "      <td>0.42836</td>\n",
       "      <td>0.604855</td>\n",
       "    </tr>\n",
       "  </tbody>\n",
       "</table>\n",
       "</div>\n",
       "      <button class=\"colab-df-convert\" onclick=\"convertToInteractive('df-6ed6e135-e4f1-4929-9103-5cbccefccb29')\"\n",
       "              title=\"Convert this dataframe to an interactive table.\"\n",
       "              style=\"display:none;\">\n",
       "        \n",
       "  <svg xmlns=\"http://www.w3.org/2000/svg\" height=\"24px\"viewBox=\"0 0 24 24\"\n",
       "       width=\"24px\">\n",
       "    <path d=\"M0 0h24v24H0V0z\" fill=\"none\"/>\n",
       "    <path d=\"M18.56 5.44l.94 2.06.94-2.06 2.06-.94-2.06-.94-.94-2.06-.94 2.06-2.06.94zm-11 1L8.5 8.5l.94-2.06 2.06-.94-2.06-.94L8.5 2.5l-.94 2.06-2.06.94zm10 10l.94 2.06.94-2.06 2.06-.94-2.06-.94-.94-2.06-.94 2.06-2.06.94z\"/><path d=\"M17.41 7.96l-1.37-1.37c-.4-.4-.92-.59-1.43-.59-.52 0-1.04.2-1.43.59L10.3 9.45l-7.72 7.72c-.78.78-.78 2.05 0 2.83L4 21.41c.39.39.9.59 1.41.59.51 0 1.02-.2 1.41-.59l7.78-7.78 2.81-2.81c.8-.78.8-2.07 0-2.86zM5.41 20L4 18.59l7.72-7.72 1.47 1.35L5.41 20z\"/>\n",
       "  </svg>\n",
       "      </button>\n",
       "      \n",
       "  <style>\n",
       "    .colab-df-container {\n",
       "      display:flex;\n",
       "      flex-wrap:wrap;\n",
       "      gap: 12px;\n",
       "    }\n",
       "\n",
       "    .colab-df-convert {\n",
       "      background-color: #E8F0FE;\n",
       "      border: none;\n",
       "      border-radius: 50%;\n",
       "      cursor: pointer;\n",
       "      display: none;\n",
       "      fill: #1967D2;\n",
       "      height: 32px;\n",
       "      padding: 0 0 0 0;\n",
       "      width: 32px;\n",
       "    }\n",
       "\n",
       "    .colab-df-convert:hover {\n",
       "      background-color: #E2EBFA;\n",
       "      box-shadow: 0px 1px 2px rgba(60, 64, 67, 0.3), 0px 1px 3px 1px rgba(60, 64, 67, 0.15);\n",
       "      fill: #174EA6;\n",
       "    }\n",
       "\n",
       "    [theme=dark] .colab-df-convert {\n",
       "      background-color: #3B4455;\n",
       "      fill: #D2E3FC;\n",
       "    }\n",
       "\n",
       "    [theme=dark] .colab-df-convert:hover {\n",
       "      background-color: #434B5C;\n",
       "      box-shadow: 0px 1px 3px 1px rgba(0, 0, 0, 0.15);\n",
       "      filter: drop-shadow(0px 1px 2px rgba(0, 0, 0, 0.3));\n",
       "      fill: #FFFFFF;\n",
       "    }\n",
       "  </style>\n",
       "\n",
       "      <script>\n",
       "        const buttonEl =\n",
       "          document.querySelector('#df-6ed6e135-e4f1-4929-9103-5cbccefccb29 button.colab-df-convert');\n",
       "        buttonEl.style.display =\n",
       "          google.colab.kernel.accessAllowed ? 'block' : 'none';\n",
       "\n",
       "        async function convertToInteractive(key) {\n",
       "          const element = document.querySelector('#df-6ed6e135-e4f1-4929-9103-5cbccefccb29');\n",
       "          const dataTable =\n",
       "            await google.colab.kernel.invokeFunction('convertToInteractive',\n",
       "                                                     [key], {});\n",
       "          if (!dataTable) return;\n",
       "\n",
       "          const docLinkHtml = 'Like what you see? Visit the ' +\n",
       "            '<a target=\"_blank\" href=https://colab.research.google.com/notebooks/data_table.ipynb>data table notebook</a>'\n",
       "            + ' to learn more about interactive tables.';\n",
       "          element.innerHTML = '';\n",
       "          dataTable['output_type'] = 'display_data';\n",
       "          await google.colab.output.renderOutput(dataTable, element);\n",
       "          const docLink = document.createElement('div');\n",
       "          docLink.innerHTML = docLinkHtml;\n",
       "          element.appendChild(docLink);\n",
       "        }\n",
       "      </script>\n",
       "    </div>\n",
       "  </div>\n",
       "  "
      ],
      "text/plain": [
       "  Test Score Train Score\n",
       "7   0.477229    0.549305\n",
       "6   0.474759    0.520067\n",
       "8   0.464801    0.575793\n",
       "5   0.462024    0.484223\n",
       "9    0.42836    0.604855"
      ]
     },
     "execution_count": 59,
     "metadata": {},
     "output_type": "execute_result"
    }
   ],
   "source": [
    "# find which depth corresponds with best score for model\n",
    "sorted_scores = scores.sort_values(by='Test Score', ascending=False)\n",
    "sorted_scores.head()\n"
   ]
  },
  {
   "cell_type": "code",
   "execution_count": 63,
   "metadata": {
    "colab": {
     "base_uri": "https://localhost:8080/"
    },
    "id": "6CIE2Np9XM2V",
    "outputId": "2f236be6-6461-4cf5-af13-ad45d55c680c"
   },
   "outputs": [
    {
     "name": "stdout",
     "output_type": "stream",
     "text": [
      "Model Training R2: 0.5493049999999949\n",
      "Model Testing R2: 0.4772290875789339\n"
     ]
    }
   ],
   "source": [
    "# Let's run the model with our optimized value for max_depth (7)\n",
    "dec_tree_7 = DecisionTreeRegressor(max_depth = 7, random_state = 42)\n",
    "dec_tree_7.fit(X_train_processed, y_train)\n",
    "train_7_score = dec_tree_7.score(X_train_processed, y_train)\n",
    "test_7_score = dec_tree_7.score(X_test_processed, y_test)\n",
    "print(f'Model Training R2: {train_7_score}')\n",
    "print(f'Model Testing R2: {test_7_score}')"
   ]
  },
  {
   "cell_type": "code",
   "execution_count": 61,
   "metadata": {
    "colab": {
     "base_uri": "https://localhost:8080/"
    },
    "id": "aRovL2KwXYNf",
    "outputId": "529cd091-7233-467a-de73-562070a3ab13"
   },
   "outputs": [
    {
     "name": "stdout",
     "output_type": "stream",
     "text": [
      "Model Training MSE: 18706.395578070747\n",
      "Model Testing MSE: 2780961.683284925\n"
     ]
    }
   ],
   "source": [
    "# calculate regression metrics\n",
    "# MSE \n",
    "train_MSE = mean_squared_error(y_train, train_pred)\n",
    "test_MSE = mean_squared_error(y_test, test_pred)\n",
    "\n",
    "print(f'Model Training MSE: {train_MSE}')\n",
    "print(f'Model Testing MSE: {test_MSE}')"
   ]
  },
  {
   "cell_type": "code",
   "execution_count": 64,
   "metadata": {
    "colab": {
     "base_uri": "https://localhost:8080/"
    },
    "id": "FpT8H7BpXdTz",
    "outputId": "e8af9455-d6e4-49a0-f07b-e0fca4439d3c"
   },
   "outputs": [
    {
     "name": "stdout",
     "output_type": "stream",
     "text": [
      "Model Training RMSE: 136.77132586207807\n",
      "Model Testing RMSE: 1667.6215647696947\n"
     ]
    }
   ],
   "source": [
    "# RMSE \n",
    "train_RMSE = np.sqrt(train_MSE)\n",
    "test_RMSE = np.sqrt(test_MSE)\n",
    "\n",
    "print(f'Model Training RMSE: {train_RMSE}')\n",
    "print(f'Model Testing RMSE: {test_RMSE}')"
   ]
  },
  {
   "cell_type": "markdown",
   "metadata": {
    "id": "vNs19E7LXk_f"
   },
   "source": [
    "After evaluating the regression tree model with RMSE and R2 scores, I can decisively say the regression tree model is the better model for predicting sales. The R2 scores for the regression tree model (0.53, 0.48) are far higher than the R2 scores for the linear regression model (0.34, 0.33), meaning that the model is doing a better job of explaining the variance in sales. In addition, the RMSE scores for the regression tree model are also  lower (better) than the linear regression model RMSE scores. This indicates that the regression tree model is making less errors in its predictions.\n",
    "\n",
    "I would recommend the business proceed with the regression tree model. "
   ]
  }
 ],
 "metadata": {
  "colab": {
   "authorship_tag": "ABX9TyMQggjIHjaARBVYo2zlpVQT",
   "include_colab_link": true,
   "mount_file_id": "10fG_CjntKfMkNIuvOMxndlMwk8iXf-43",
   "provenance": []
  },
  "kernelspec": {
   "display_name": "Python 3 (ipykernel)",
   "language": "python",
   "name": "python3"
  },
  "language_info": {
   "codemirror_mode": {
    "name": "ipython",
    "version": 3
   },
   "file_extension": ".py",
   "mimetype": "text/x-python",
   "name": "python",
   "nbconvert_exporter": "python",
   "pygments_lexer": "ipython3",
   "version": "3.9.15"
  },
  "toc": {
   "base_numbering": 1,
   "nav_menu": {},
   "number_sections": true,
   "sideBar": true,
   "skip_h1_title": false,
   "title_cell": "Table of Contents",
   "title_sidebar": "Contents",
   "toc_cell": false,
   "toc_position": {
    "height": "calc(100% - 180px)",
    "left": "10px",
    "top": "150px",
    "width": "188.542px"
   },
   "toc_section_display": true,
   "toc_window_display": true
  }
 },
 "nbformat": 4,
 "nbformat_minor": 1
}
